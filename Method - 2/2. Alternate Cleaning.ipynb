{
 "cells": [
  {
   "cell_type": "code",
   "execution_count": 1,
   "metadata": {},
   "outputs": [],
   "source": [
    "import numpy as np\n",
    "import pandas as pd\n",
    "import re\n",
    "import nltk\n",
    "from nltk.corpus import stopwords\n",
    "from nltk.tokenize import word_tokenize"
   ]
  },
  {
   "cell_type": "code",
   "execution_count": 2,
   "metadata": {},
   "outputs": [
    {
     "data": {
      "text/html": [
       "<div>\n",
       "<style scoped>\n",
       "    .dataframe tbody tr th:only-of-type {\n",
       "        vertical-align: middle;\n",
       "    }\n",
       "\n",
       "    .dataframe tbody tr th {\n",
       "        vertical-align: top;\n",
       "    }\n",
       "\n",
       "    .dataframe thead th {\n",
       "        text-align: right;\n",
       "    }\n",
       "</style>\n",
       "<table border=\"1\" class=\"dataframe\">\n",
       "  <thead>\n",
       "    <tr style=\"text-align: right;\">\n",
       "      <th></th>\n",
       "      <th>RID</th>\n",
       "      <th>Title</th>\n",
       "      <th>URL</th>\n",
       "      <th>Score</th>\n",
       "      <th>Comment_Score</th>\n",
       "      <th>Author</th>\n",
       "      <th>Content</th>\n",
       "      <th>Adult</th>\n",
       "      <th>Flair</th>\n",
       "    </tr>\n",
       "  </thead>\n",
       "  <tbody>\n",
       "    <tr>\n",
       "      <th>0</th>\n",
       "      <td>g89s9t</td>\n",
       "      <td>Website to find out if you are getting paid fa...</td>\n",
       "      <td>/r/india/comments/g89s9t/website_to_find_out_i...</td>\n",
       "      <td>2</td>\n",
       "      <td>0</td>\n",
       "      <td>ngranja19</td>\n",
       "      <td>NaN</td>\n",
       "      <td>False</td>\n",
       "      <td>Business/Finance</td>\n",
       "    </tr>\n",
       "    <tr>\n",
       "      <th>1</th>\n",
       "      <td>g89rnl</td>\n",
       "      <td>Happy Akshaya Tritiya | Akshaya Trititya 2020 ...</td>\n",
       "      <td>/r/india/comments/g89rnl/happy_akshaya_tritiya...</td>\n",
       "      <td>1</td>\n",
       "      <td>0</td>\n",
       "      <td>vaultuptechnologies</td>\n",
       "      <td>[removed]</td>\n",
       "      <td>False</td>\n",
       "      <td>AskIndia</td>\n",
       "    </tr>\n",
       "    <tr>\n",
       "      <th>2</th>\n",
       "      <td>g89ni7</td>\n",
       "      <td>A new turf war has erupted between #Pakistan s...</td>\n",
       "      <td>/r/india/comments/g89ni7/a_new_turf_war_has_er...</td>\n",
       "      <td>8</td>\n",
       "      <td>6</td>\n",
       "      <td>aviakki1</td>\n",
       "      <td>NaN</td>\n",
       "      <td>False</td>\n",
       "      <td>Non-Political</td>\n",
       "    </tr>\n",
       "    <tr>\n",
       "      <th>3</th>\n",
       "      <td>g89j51</td>\n",
       "      <td>‘Special flights, hospital beds’: Centre preps...</td>\n",
       "      <td>/r/india/comments/g89j51/special_flights_hospi...</td>\n",
       "      <td>13</td>\n",
       "      <td>6</td>\n",
       "      <td>silentr3b31</td>\n",
       "      <td>NaN</td>\n",
       "      <td>False</td>\n",
       "      <td>Politics</td>\n",
       "    </tr>\n",
       "    <tr>\n",
       "      <th>4</th>\n",
       "      <td>g89iup</td>\n",
       "      <td>24 in Vijayawada contract virus as man hosts g...</td>\n",
       "      <td>/r/india/comments/g89iup/24_in_vijayawada_cont...</td>\n",
       "      <td>65</td>\n",
       "      <td>8</td>\n",
       "      <td>drgnfly61</td>\n",
       "      <td>NaN</td>\n",
       "      <td>False</td>\n",
       "      <td>Coronavirus</td>\n",
       "    </tr>\n",
       "  </tbody>\n",
       "</table>\n",
       "</div>"
      ],
      "text/plain": [
       "      RID                                              Title  \\\n",
       "0  g89s9t  Website to find out if you are getting paid fa...   \n",
       "1  g89rnl  Happy Akshaya Tritiya | Akshaya Trititya 2020 ...   \n",
       "2  g89ni7  A new turf war has erupted between #Pakistan s...   \n",
       "3  g89j51  ‘Special flights, hospital beds’: Centre preps...   \n",
       "4  g89iup  24 in Vijayawada contract virus as man hosts g...   \n",
       "\n",
       "                                                 URL  Score  Comment_Score  \\\n",
       "0  /r/india/comments/g89s9t/website_to_find_out_i...      2              0   \n",
       "1  /r/india/comments/g89rnl/happy_akshaya_tritiya...      1              0   \n",
       "2  /r/india/comments/g89ni7/a_new_turf_war_has_er...      8              6   \n",
       "3  /r/india/comments/g89j51/special_flights_hospi...     13              6   \n",
       "4  /r/india/comments/g89iup/24_in_vijayawada_cont...     65              8   \n",
       "\n",
       "                Author    Content  Adult             Flair  \n",
       "0            ngranja19        NaN  False  Business/Finance  \n",
       "1  vaultuptechnologies  [removed]  False          AskIndia  \n",
       "2             aviakki1        NaN  False     Non-Political  \n",
       "3          silentr3b31        NaN  False          Politics  \n",
       "4            drgnfly61        NaN  False       Coronavirus  "
      ]
     },
     "execution_count": 2,
     "metadata": {},
     "output_type": "execute_result"
    }
   ],
   "source": [
    "data = pd.read_csv(\"Reddit Data AS.csv\")\n",
    "data.drop('Unnamed: 0', inplace=True, axis=1)\n",
    "data.head()"
   ]
  },
  {
   "cell_type": "code",
   "execution_count": 3,
   "metadata": {},
   "outputs": [
    {
     "data": {
      "text/html": [
       "<div>\n",
       "<style scoped>\n",
       "    .dataframe tbody tr th:only-of-type {\n",
       "        vertical-align: middle;\n",
       "    }\n",
       "\n",
       "    .dataframe tbody tr th {\n",
       "        vertical-align: top;\n",
       "    }\n",
       "\n",
       "    .dataframe thead th {\n",
       "        text-align: right;\n",
       "    }\n",
       "</style>\n",
       "<table border=\"1\" class=\"dataframe\">\n",
       "  <thead>\n",
       "    <tr style=\"text-align: right;\">\n",
       "      <th></th>\n",
       "      <th>Score</th>\n",
       "      <th>Comment_Score</th>\n",
       "    </tr>\n",
       "  </thead>\n",
       "  <tbody>\n",
       "    <tr>\n",
       "      <th>count</th>\n",
       "      <td>21606.000000</td>\n",
       "      <td>21606.000000</td>\n",
       "    </tr>\n",
       "    <tr>\n",
       "      <th>mean</th>\n",
       "      <td>56.995233</td>\n",
       "      <td>16.117236</td>\n",
       "    </tr>\n",
       "    <tr>\n",
       "      <th>std</th>\n",
       "      <td>286.116684</td>\n",
       "      <td>152.512956</td>\n",
       "    </tr>\n",
       "    <tr>\n",
       "      <th>min</th>\n",
       "      <td>0.000000</td>\n",
       "      <td>0.000000</td>\n",
       "    </tr>\n",
       "    <tr>\n",
       "      <th>25%</th>\n",
       "      <td>1.000000</td>\n",
       "      <td>0.000000</td>\n",
       "    </tr>\n",
       "    <tr>\n",
       "      <th>50%</th>\n",
       "      <td>4.000000</td>\n",
       "      <td>1.000000</td>\n",
       "    </tr>\n",
       "    <tr>\n",
       "      <th>75%</th>\n",
       "      <td>26.000000</td>\n",
       "      <td>6.000000</td>\n",
       "    </tr>\n",
       "    <tr>\n",
       "      <th>max</th>\n",
       "      <td>12489.000000</td>\n",
       "      <td>10794.000000</td>\n",
       "    </tr>\n",
       "  </tbody>\n",
       "</table>\n",
       "</div>"
      ],
      "text/plain": [
       "              Score  Comment_Score\n",
       "count  21606.000000   21606.000000\n",
       "mean      56.995233      16.117236\n",
       "std      286.116684     152.512956\n",
       "min        0.000000       0.000000\n",
       "25%        1.000000       0.000000\n",
       "50%        4.000000       1.000000\n",
       "75%       26.000000       6.000000\n",
       "max    12489.000000   10794.000000"
      ]
     },
     "execution_count": 3,
     "metadata": {},
     "output_type": "execute_result"
    }
   ],
   "source": [
    "data.describe()"
   ]
  },
  {
   "cell_type": "code",
   "execution_count": 4,
   "metadata": {},
   "outputs": [
    {
     "name": "stdout",
     "output_type": "stream",
     "text": [
      "<class 'pandas.core.frame.DataFrame'>\n",
      "RangeIndex: 21606 entries, 0 to 21605\n",
      "Data columns (total 9 columns):\n",
      "RID              21606 non-null object\n",
      "Title            21606 non-null object\n",
      "URL              21606 non-null object\n",
      "Score            21606 non-null int64\n",
      "Comment_Score    21606 non-null int64\n",
      "Author           16934 non-null object\n",
      "Content          9596 non-null object\n",
      "Adult            21606 non-null bool\n",
      "Flair            21606 non-null object\n",
      "dtypes: bool(1), int64(2), object(6)\n",
      "memory usage: 1.3+ MB\n"
     ]
    }
   ],
   "source": [
    "data.info()"
   ]
  },
  {
   "cell_type": "code",
   "execution_count": 5,
   "metadata": {},
   "outputs": [],
   "source": [
    "data.fillna(\"\",inplace = True)"
   ]
  },
  {
   "cell_type": "code",
   "execution_count": 6,
   "metadata": {},
   "outputs": [
    {
     "name": "stdout",
     "output_type": "stream",
     "text": [
      "Total No. Of Null Values in RID:-  0\n",
      "Total No. Of Null Values in Title:-  0\n",
      "Total No. Of Null Values in Score:-  0\n",
      "Total No. Of Null Values in Comments:-  0\n",
      "Total No. Of Null Values in Author:-  0\n",
      "Total No. Of Null Values in Adult:-  0\n",
      "Total No. Of Null Values in Flair:-  0\n"
     ]
    }
   ],
   "source": [
    "print(\"Total No. Of Null Values in RID:- \", data['RID'].isnull().sum())\n",
    "print(\"Total No. Of Null Values in Title:- \", data['Title'].isnull().sum())\n",
    "print(\"Total No. Of Null Values in Score:- \", data['Score'].isnull().sum())\n",
    "print(\"Total No. Of Null Values in Comments:- \", data['Comment_Score'].isnull().sum())\n",
    "print(\"Total No. Of Null Values in Author:- \", data['Author'].isnull().sum())\n",
    "print(\"Total No. Of Null Values in Adult:- \", data['Adult'].isnull().sum())\n",
    "print(\"Total No. Of Null Values in Flair:- \", data['Flair'].isnull().sum())"
   ]
  },
  {
   "cell_type": "code",
   "execution_count": 7,
   "metadata": {},
   "outputs": [],
   "source": [
    "count = {}\n",
    "for i in data['Flair']:\n",
    "    if i in count:\n",
    "        count[i] += 1\n",
    "    else:\n",
    "        count[i] = 1"
   ]
  },
  {
   "cell_type": "code",
   "execution_count": 8,
   "metadata": {},
   "outputs": [
    {
     "name": "stdout",
     "output_type": "stream",
     "text": [
      "[('Coronavirus', 7700), ('Non-Political', 4336), ('AskIndia', 3112), ('Politics', 2870), ('Policy/Economy', 818), ('Business/Finance', 764), ('Science/Technology', 740), ('Photography', 529), ('Food', 256), ('Scheduled', 200), ('Sports', 191), ('CAA-NRC-NPR', 90)]\n"
     ]
    }
   ],
   "source": [
    "sorted_x = sorted(count.items(), key=lambda kv: kv[1])\n",
    "sorted_x.reverse()\n",
    "print(sorted_x)"
   ]
  },
  {
   "cell_type": "code",
   "execution_count": 9,
   "metadata": {},
   "outputs": [
    {
     "data": {
      "text/plain": [
       "(21606, 9)"
      ]
     },
     "execution_count": 9,
     "metadata": {},
     "output_type": "execute_result"
    }
   ],
   "source": [
    "data.shape"
   ]
  },
  {
   "cell_type": "code",
   "execution_count": 10,
   "metadata": {},
   "outputs": [
    {
     "data": {
      "text/plain": [
       "'Website to find out if you are getting paid fairly comparing salaries from India and help to reduce pay inequality.'"
      ]
     },
     "execution_count": 10,
     "metadata": {},
     "output_type": "execute_result"
    }
   ],
   "source": [
    "data['Title'][0]"
   ]
  },
  {
   "cell_type": "code",
   "execution_count": 11,
   "metadata": {},
   "outputs": [],
   "source": [
    "stop_words = set(stopwords.words(\"english\"))"
   ]
  },
  {
   "cell_type": "code",
   "execution_count": 12,
   "metadata": {},
   "outputs": [],
   "source": [
    "def clean_text(text):\n",
    "    text = re.sub('[/(){}\\[\\]#\\|@,\"\".?'':;*!$]', '', text)\n",
    "    text = re.sub('[^0-9A-Za-z #+_]', '', text)\n",
    "    text = str(\" \".join([w for w in word_tokenize(text) if w not in stop_words]))\n",
    "    return text"
   ]
  },
  {
   "cell_type": "code",
   "execution_count": 13,
   "metadata": {},
   "outputs": [],
   "source": [
    "data['Title'] = data.apply(lambda column: clean_text(column['Title']), axis=1)\n",
    "data['Content'] = data.apply(lambda column: clean_text(column['Content']), axis=1)"
   ]
  },
  {
   "cell_type": "code",
   "execution_count": 14,
   "metadata": {},
   "outputs": [
    {
     "data": {
      "text/plain": [
       "'Website find getting paid fairly comparing salaries India help reduce pay inequality'"
      ]
     },
     "execution_count": 14,
     "metadata": {},
     "output_type": "execute_result"
    }
   ],
   "source": [
    "data['Title'][0]"
   ]
  },
  {
   "cell_type": "code",
   "execution_count": 15,
   "metadata": {},
   "outputs": [
    {
     "data": {
      "text/html": [
       "<div>\n",
       "<style scoped>\n",
       "    .dataframe tbody tr th:only-of-type {\n",
       "        vertical-align: middle;\n",
       "    }\n",
       "\n",
       "    .dataframe tbody tr th {\n",
       "        vertical-align: top;\n",
       "    }\n",
       "\n",
       "    .dataframe thead th {\n",
       "        text-align: right;\n",
       "    }\n",
       "</style>\n",
       "<table border=\"1\" class=\"dataframe\">\n",
       "  <thead>\n",
       "    <tr style=\"text-align: right;\">\n",
       "      <th></th>\n",
       "      <th>RID</th>\n",
       "      <th>Title</th>\n",
       "      <th>URL</th>\n",
       "      <th>Score</th>\n",
       "      <th>Comment_Score</th>\n",
       "      <th>Author</th>\n",
       "      <th>Content</th>\n",
       "      <th>Adult</th>\n",
       "      <th>Flair</th>\n",
       "      <th>Length_Title</th>\n",
       "      <th>Length_Content</th>\n",
       "    </tr>\n",
       "  </thead>\n",
       "  <tbody>\n",
       "    <tr>\n",
       "      <th>0</th>\n",
       "      <td>g89s9t</td>\n",
       "      <td>Website find getting paid fairly comparing sal...</td>\n",
       "      <td>/r/india/comments/g89s9t/website_to_find_out_i...</td>\n",
       "      <td>2</td>\n",
       "      <td>0</td>\n",
       "      <td>ngranja19</td>\n",
       "      <td></td>\n",
       "      <td>False</td>\n",
       "      <td>Business/Finance</td>\n",
       "      <td>84</td>\n",
       "      <td>0</td>\n",
       "    </tr>\n",
       "    <tr>\n",
       "      <th>1</th>\n",
       "      <td>g89rnl</td>\n",
       "      <td>Happy Akshaya Tritiya Akshaya Trititya 2020 Fe...</td>\n",
       "      <td>/r/india/comments/g89rnl/happy_akshaya_tritiya...</td>\n",
       "      <td>1</td>\n",
       "      <td>0</td>\n",
       "      <td>vaultuptechnologies</td>\n",
       "      <td>removed</td>\n",
       "      <td>False</td>\n",
       "      <td>AskIndia</td>\n",
       "      <td>74</td>\n",
       "      <td>7</td>\n",
       "    </tr>\n",
       "    <tr>\n",
       "      <th>2</th>\n",
       "      <td>g89ni7</td>\n",
       "      <td>A new turf war erupted Pakistan sponsored terr...</td>\n",
       "      <td>/r/india/comments/g89ni7/a_new_turf_war_has_er...</td>\n",
       "      <td>8</td>\n",
       "      <td>6</td>\n",
       "      <td>aviakki1</td>\n",
       "      <td></td>\n",
       "      <td>False</td>\n",
       "      <td>Non-Political</td>\n",
       "      <td>166</td>\n",
       "      <td>0</td>\n",
       "    </tr>\n",
       "    <tr>\n",
       "      <th>3</th>\n",
       "      <td>g89j51</td>\n",
       "      <td>Special flights hospital beds Centre preps fly...</td>\n",
       "      <td>/r/india/comments/g89j51/special_flights_hospi...</td>\n",
       "      <td>13</td>\n",
       "      <td>6</td>\n",
       "      <td>silentr3b31</td>\n",
       "      <td></td>\n",
       "      <td>False</td>\n",
       "      <td>Politics</td>\n",
       "      <td>75</td>\n",
       "      <td>0</td>\n",
       "    </tr>\n",
       "    <tr>\n",
       "      <th>4</th>\n",
       "      <td>g89iup</td>\n",
       "      <td>24 Vijayawada contract virus man hosts games h...</td>\n",
       "      <td>/r/india/comments/g89iup/24_in_vijayawada_cont...</td>\n",
       "      <td>65</td>\n",
       "      <td>8</td>\n",
       "      <td>drgnfly61</td>\n",
       "      <td></td>\n",
       "      <td>False</td>\n",
       "      <td>Coronavirus</td>\n",
       "      <td>50</td>\n",
       "      <td>0</td>\n",
       "    </tr>\n",
       "  </tbody>\n",
       "</table>\n",
       "</div>"
      ],
      "text/plain": [
       "      RID                                              Title  \\\n",
       "0  g89s9t  Website find getting paid fairly comparing sal...   \n",
       "1  g89rnl  Happy Akshaya Tritiya Akshaya Trititya 2020 Fe...   \n",
       "2  g89ni7  A new turf war erupted Pakistan sponsored terr...   \n",
       "3  g89j51  Special flights hospital beds Centre preps fly...   \n",
       "4  g89iup  24 Vijayawada contract virus man hosts games h...   \n",
       "\n",
       "                                                 URL  Score  Comment_Score  \\\n",
       "0  /r/india/comments/g89s9t/website_to_find_out_i...      2              0   \n",
       "1  /r/india/comments/g89rnl/happy_akshaya_tritiya...      1              0   \n",
       "2  /r/india/comments/g89ni7/a_new_turf_war_has_er...      8              6   \n",
       "3  /r/india/comments/g89j51/special_flights_hospi...     13              6   \n",
       "4  /r/india/comments/g89iup/24_in_vijayawada_cont...     65              8   \n",
       "\n",
       "                Author  Content  Adult             Flair  Length_Title  \\\n",
       "0            ngranja19           False  Business/Finance            84   \n",
       "1  vaultuptechnologies  removed  False          AskIndia            74   \n",
       "2             aviakki1           False     Non-Political           166   \n",
       "3          silentr3b31           False          Politics            75   \n",
       "4            drgnfly61           False       Coronavirus            50   \n",
       "\n",
       "   Length_Content  \n",
       "0               0  \n",
       "1               7  \n",
       "2               0  \n",
       "3               0  \n",
       "4               0  "
      ]
     },
     "execution_count": 15,
     "metadata": {},
     "output_type": "execute_result"
    }
   ],
   "source": [
    "data['Length_Title'] = data['Title'].apply(len)\n",
    "data['Length_Content'] = data['Content'].apply(len)\n",
    "data.head()"
   ]
  },
  {
   "cell_type": "code",
   "execution_count": 17,
   "metadata": {},
   "outputs": [],
   "source": [
    "data.to_csv(\"Cleaned Reddit Data AS.csv\")"
   ]
  }
 ],
 "metadata": {
  "kernelspec": {
   "display_name": "Python 3",
   "language": "python",
   "name": "python3"
  },
  "language_info": {
   "codemirror_mode": {
    "name": "ipython",
    "version": 3
   },
   "file_extension": ".py",
   "mimetype": "text/x-python",
   "name": "python",
   "nbconvert_exporter": "python",
   "pygments_lexer": "ipython3",
   "version": "3.7.3"
  }
 },
 "nbformat": 4,
 "nbformat_minor": 2
}
