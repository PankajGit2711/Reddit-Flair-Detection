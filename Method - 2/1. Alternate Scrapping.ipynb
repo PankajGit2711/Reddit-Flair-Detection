{
 "cells": [
  {
   "cell_type": "code",
   "execution_count": 1,
   "metadata": {},
   "outputs": [],
   "source": [
    "import psaw\n",
    "import praw\n",
    "import time\n",
    "import calendar\n",
    "import pandas as pd"
   ]
  },
  {
   "cell_type": "code",
   "execution_count": 2,
   "metadata": {},
   "outputs": [],
   "source": [
    "client_id = \"zMvnVRM8MN_MRw\"\n",
    "client_secret = \"-JIqik-pmfgku1BVB_2gcoxnMwM\"\n",
    "user_agent = \"FlareReddit\"\n",
    "username = \"psatreddit\"\n",
    "password = \"pankaj123\""
   ]
  },
  {
   "cell_type": "code",
   "execution_count": 3,
   "metadata": {},
   "outputs": [],
   "source": [
    "reddit = praw.Reddit(client_id = client_id, client_secret = client_secret, user_agent = user_agent, username = username, password = password)\n",
    "api = psaw.PushshiftAPI(reddit)"
   ]
  },
  {
   "cell_type": "code",
   "execution_count": 4,
   "metadata": {},
   "outputs": [
    {
     "name": "stdout",
     "output_type": "stream",
     "text": [
      "Total No. Of Flairs:-  12\n"
     ]
    }
   ],
   "source": [
    "epoch_time = calendar.timegm(time.gmtime())\n",
    "gen = api.search_submissions(subreddit='india', before = epoch_time, limit=30000)\n",
    "flairs = [\"Politics\", \"Non-Political\", \"AskIndia\", \"Policy/Economy\", \"Business/Finance\", \"Science/Technology\", \"Scheduled\", \"Sports\", \"Food\", \"Photography\", \"CAA-NRC-NPR\", \"Coronavirus\"]\n",
    "print(\"Total No. Of Flairs:- \", len(flairs))"
   ]
  },
  {
   "cell_type": "code",
   "execution_count": 5,
   "metadata": {},
   "outputs": [
    {
     "name": "stderr",
     "output_type": "stream",
     "text": [
      "C:\\Users\\hp\\Anaconda3\\lib\\site-packages\\psaw\\PushshiftAPI.py:192: UserWarning: Got non 200 code 502\n",
      "  warnings.warn(\"Got non 200 code %s\" % response.status_code)\n",
      "C:\\Users\\hp\\Anaconda3\\lib\\site-packages\\psaw\\PushshiftAPI.py:180: UserWarning: Unable to connect to pushshift.io. Retrying after backoff.\n",
      "  warnings.warn(\"Unable to connect to pushshift.io. Retrying after backoff.\")\n"
     ]
    }
   ],
   "source": [
    "rid = []\n",
    "title = []\n",
    "url = []\n",
    "score = []\n",
    "comments_num = []\n",
    "author = []\n",
    "content = []\n",
    "adultcontent = []\n",
    "link_flare = []\n",
    "\n",
    "for i in gen:\n",
    "    post = vars(i)\n",
    "    for flare in flairs:\n",
    "        if post['link_flair_text'] == flare:\n",
    "            rid.append(post['id'])\n",
    "            title.append(post['title'])\n",
    "            score.append(post['score'])\n",
    "            url.append(post['permalink'])\n",
    "            comments_num.append(post['num_comments'])\n",
    "            author.append(post['author'])\n",
    "            content.append(post['selftext'])\n",
    "            adultcontent.append(post['over_18'])\n",
    "            link_flare.append(post['link_flair_text'])"
   ]
  },
  {
   "cell_type": "code",
   "execution_count": 9,
   "metadata": {},
   "outputs": [],
   "source": [
    "data = pd.DataFrame(rid, columns=[\"RID\"])\n",
    "data['Title'] = title\n",
    "data['URL'] = url\n",
    "data['Score'] = score\n",
    "data['Comment_Score'] = comments_num\n",
    "data['Author'] = author\n",
    "data['Content'] = content\n",
    "data['Adult'] = adultcontent\n",
    "data['Flair'] = link_flare"
   ]
  },
  {
   "cell_type": "code",
   "execution_count": 10,
   "metadata": {},
   "outputs": [],
   "source": [
    "data.to_csv(\"Reddit Data AS.csv\")"
   ]
  }
 ],
 "metadata": {
  "kernelspec": {
   "display_name": "Python 3",
   "language": "python",
   "name": "python3"
  },
  "language_info": {
   "codemirror_mode": {
    "name": "ipython",
    "version": 3
   },
   "file_extension": ".py",
   "mimetype": "text/x-python",
   "name": "python",
   "nbconvert_exporter": "python",
   "pygments_lexer": "ipython3",
   "version": "3.7.3"
  }
 },
 "nbformat": 4,
 "nbformat_minor": 2
}
