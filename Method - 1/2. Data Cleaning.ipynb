{
 "cells": [
  {
   "cell_type": "code",
   "execution_count": 1,
   "metadata": {},
   "outputs": [],
   "source": [
    "import numpy as np\n",
    "import pandas as pd\n",
    "import re\n",
    "import nltk\n",
    "from nltk.corpus import stopwords\n",
    "from nltk.tokenize import word_tokenize"
   ]
  },
  {
   "cell_type": "code",
   "execution_count": 2,
   "metadata": {},
   "outputs": [
    {
     "data": {
      "text/html": [
       "<div>\n",
       "<style scoped>\n",
       "    .dataframe tbody tr th:only-of-type {\n",
       "        vertical-align: middle;\n",
       "    }\n",
       "\n",
       "    .dataframe tbody tr th {\n",
       "        vertical-align: top;\n",
       "    }\n",
       "\n",
       "    .dataframe thead th {\n",
       "        text-align: right;\n",
       "    }\n",
       "</style>\n",
       "<table border=\"1\" class=\"dataframe\">\n",
       "  <thead>\n",
       "    <tr style=\"text-align: right;\">\n",
       "      <th></th>\n",
       "      <th>RID</th>\n",
       "      <th>Title</th>\n",
       "      <th>URL</th>\n",
       "      <th>Score</th>\n",
       "      <th>Comment_Score</th>\n",
       "      <th>Author</th>\n",
       "      <th>Content</th>\n",
       "      <th>Adult</th>\n",
       "      <th>Flair</th>\n",
       "    </tr>\n",
       "  </thead>\n",
       "  <tbody>\n",
       "    <tr>\n",
       "      <th>0</th>\n",
       "      <td>g76o5f</td>\n",
       "      <td>The real loser in India's errupting Islamaphob...</td>\n",
       "      <td>https://www.reddit.com/r/india/comments/g76o5f...</td>\n",
       "      <td>88</td>\n",
       "      <td>53</td>\n",
       "      <td>HairLikeWinterFire</td>\n",
       "      <td>TLDR: My (unqualified) opinion is that dalit p...</td>\n",
       "      <td>False</td>\n",
       "      <td>Politics</td>\n",
       "    </tr>\n",
       "    <tr>\n",
       "      <th>1</th>\n",
       "      <td>futac9</td>\n",
       "      <td>Pitting a community against a political party ...</td>\n",
       "      <td>https://www.reddit.com/r/india/comments/futac9...</td>\n",
       "      <td>194</td>\n",
       "      <td>73</td>\n",
       "      <td>chillinvillain122</td>\n",
       "      <td>First of all let me start by saying it was stu...</td>\n",
       "      <td>False</td>\n",
       "      <td>Politics</td>\n",
       "    </tr>\n",
       "    <tr>\n",
       "      <th>2</th>\n",
       "      <td>ff8sth</td>\n",
       "      <td>A new political party gave a full front page a...</td>\n",
       "      <td>https://i.redd.it/yjo9wpy38el41.jpg</td>\n",
       "      <td>736</td>\n",
       "      <td>146</td>\n",
       "      <td>aaluinsonaout</td>\n",
       "      <td>NaN</td>\n",
       "      <td>False</td>\n",
       "      <td>Politics</td>\n",
       "    </tr>\n",
       "    <tr>\n",
       "      <th>3</th>\n",
       "      <td>fxs1vy</td>\n",
       "      <td>Politics in the time of corona: WB CM question...</td>\n",
       "      <td>https://www.timesnownews.com/india/article/pol...</td>\n",
       "      <td>83</td>\n",
       "      <td>22</td>\n",
       "      <td>ConcernedCitizen034</td>\n",
       "      <td>NaN</td>\n",
       "      <td>False</td>\n",
       "      <td>Politics</td>\n",
       "    </tr>\n",
       "    <tr>\n",
       "      <th>4</th>\n",
       "      <td>fd7q3z</td>\n",
       "      <td>AAP’s woeful response to the Delhi communal vi...</td>\n",
       "      <td>https://scroll.in/article/954991/aaps-woeful-r...</td>\n",
       "      <td>213</td>\n",
       "      <td>45</td>\n",
       "      <td>Dumma1729</td>\n",
       "      <td>NaN</td>\n",
       "      <td>False</td>\n",
       "      <td>Politics</td>\n",
       "    </tr>\n",
       "  </tbody>\n",
       "</table>\n",
       "</div>"
      ],
      "text/plain": [
       "      RID                                              Title  \\\n",
       "0  g76o5f  The real loser in India's errupting Islamaphob...   \n",
       "1  futac9  Pitting a community against a political party ...   \n",
       "2  ff8sth  A new political party gave a full front page a...   \n",
       "3  fxs1vy  Politics in the time of corona: WB CM question...   \n",
       "4  fd7q3z  AAP’s woeful response to the Delhi communal vi...   \n",
       "\n",
       "                                                 URL  Score  Comment_Score  \\\n",
       "0  https://www.reddit.com/r/india/comments/g76o5f...     88             53   \n",
       "1  https://www.reddit.com/r/india/comments/futac9...    194             73   \n",
       "2                https://i.redd.it/yjo9wpy38el41.jpg    736            146   \n",
       "3  https://www.timesnownews.com/india/article/pol...     83             22   \n",
       "4  https://scroll.in/article/954991/aaps-woeful-r...    213             45   \n",
       "\n",
       "                Author                                            Content  \\\n",
       "0   HairLikeWinterFire  TLDR: My (unqualified) opinion is that dalit p...   \n",
       "1    chillinvillain122  First of all let me start by saying it was stu...   \n",
       "2        aaluinsonaout                                                NaN   \n",
       "3  ConcernedCitizen034                                                NaN   \n",
       "4            Dumma1729                                                NaN   \n",
       "\n",
       "   Adult     Flair  \n",
       "0  False  Politics  \n",
       "1  False  Politics  \n",
       "2  False  Politics  \n",
       "3  False  Politics  \n",
       "4  False  Politics  "
      ]
     },
     "execution_count": 2,
     "metadata": {},
     "output_type": "execute_result"
    }
   ],
   "source": [
    "data = pd.read_csv(\"Reddit Data.csv\")\n",
    "data.drop('Unnamed: 0', inplace=True, axis=1)\n",
    "data.head()"
   ]
  },
  {
   "cell_type": "code",
   "execution_count": 3,
   "metadata": {},
   "outputs": [
    {
     "data": {
      "text/html": [
       "<div>\n",
       "<style scoped>\n",
       "    .dataframe tbody tr th:only-of-type {\n",
       "        vertical-align: middle;\n",
       "    }\n",
       "\n",
       "    .dataframe tbody tr th {\n",
       "        vertical-align: top;\n",
       "    }\n",
       "\n",
       "    .dataframe thead th {\n",
       "        text-align: right;\n",
       "    }\n",
       "</style>\n",
       "<table border=\"1\" class=\"dataframe\">\n",
       "  <thead>\n",
       "    <tr style=\"text-align: right;\">\n",
       "      <th></th>\n",
       "      <th>Score</th>\n",
       "      <th>Comment_Score</th>\n",
       "    </tr>\n",
       "  </thead>\n",
       "  <tbody>\n",
       "    <tr>\n",
       "      <th>count</th>\n",
       "      <td>961.000000</td>\n",
       "      <td>961.000000</td>\n",
       "    </tr>\n",
       "    <tr>\n",
       "      <th>mean</th>\n",
       "      <td>170.324662</td>\n",
       "      <td>59.507804</td>\n",
       "    </tr>\n",
       "    <tr>\n",
       "      <th>std</th>\n",
       "      <td>415.243654</td>\n",
       "      <td>506.838693</td>\n",
       "    </tr>\n",
       "    <tr>\n",
       "      <th>min</th>\n",
       "      <td>0.000000</td>\n",
       "      <td>0.000000</td>\n",
       "    </tr>\n",
       "    <tr>\n",
       "      <th>25%</th>\n",
       "      <td>10.000000</td>\n",
       "      <td>5.000000</td>\n",
       "    </tr>\n",
       "    <tr>\n",
       "      <th>50%</th>\n",
       "      <td>36.000000</td>\n",
       "      <td>15.000000</td>\n",
       "    </tr>\n",
       "    <tr>\n",
       "      <th>75%</th>\n",
       "      <td>155.000000</td>\n",
       "      <td>39.000000</td>\n",
       "    </tr>\n",
       "    <tr>\n",
       "      <th>max</th>\n",
       "      <td>3952.000000</td>\n",
       "      <td>10794.000000</td>\n",
       "    </tr>\n",
       "  </tbody>\n",
       "</table>\n",
       "</div>"
      ],
      "text/plain": [
       "             Score  Comment_Score\n",
       "count   961.000000     961.000000\n",
       "mean    170.324662      59.507804\n",
       "std     415.243654     506.838693\n",
       "min       0.000000       0.000000\n",
       "25%      10.000000       5.000000\n",
       "50%      36.000000      15.000000\n",
       "75%     155.000000      39.000000\n",
       "max    3952.000000   10794.000000"
      ]
     },
     "execution_count": 3,
     "metadata": {},
     "output_type": "execute_result"
    }
   ],
   "source": [
    "data.describe()"
   ]
  },
  {
   "cell_type": "code",
   "execution_count": 4,
   "metadata": {},
   "outputs": [
    {
     "name": "stdout",
     "output_type": "stream",
     "text": [
      "<class 'pandas.core.frame.DataFrame'>\n",
      "RangeIndex: 961 entries, 0 to 960\n",
      "Data columns (total 9 columns):\n",
      "RID              961 non-null object\n",
      "Title            961 non-null object\n",
      "URL              961 non-null object\n",
      "Score            961 non-null int64\n",
      "Comment_Score    961 non-null int64\n",
      "Author           961 non-null object\n",
      "Content          442 non-null object\n",
      "Adult            961 non-null bool\n",
      "Flair            961 non-null object\n",
      "dtypes: bool(1), int64(2), object(6)\n",
      "memory usage: 61.1+ KB\n"
     ]
    }
   ],
   "source": [
    "data.info()"
   ]
  },
  {
   "cell_type": "code",
   "execution_count": 5,
   "metadata": {},
   "outputs": [],
   "source": [
    "data.fillna(\"\",inplace = True)"
   ]
  },
  {
   "cell_type": "code",
   "execution_count": 6,
   "metadata": {},
   "outputs": [
    {
     "name": "stdout",
     "output_type": "stream",
     "text": [
      "Total No. Of Null Values in RID:-  0\n",
      "Total No. Of Null Values in Title:-  0\n",
      "Total No. Of Null Values in Score:-  0\n",
      "Total No. Of Null Values in Comments:-  0\n",
      "Total No. Of Null Values in Author:-  0\n",
      "Total No. Of Null Values in Adult:-  0\n",
      "Total No. Of Null Values in Flair:-  0\n"
     ]
    }
   ],
   "source": [
    "print(\"Total No. Of Null Values in RID:- \", data['RID'].isnull().sum())\n",
    "print(\"Total No. Of Null Values in Title:- \", data['Title'].isnull().sum())\n",
    "print(\"Total No. Of Null Values in Score:- \", data['Score'].isnull().sum())\n",
    "print(\"Total No. Of Null Values in Comments:- \", data['Comment_Score'].isnull().sum())\n",
    "print(\"Total No. Of Null Values in Author:- \", data['Author'].isnull().sum())\n",
    "print(\"Total No. Of Null Values in Adult:- \", data['Adult'].isnull().sum())\n",
    "print(\"Total No. Of Null Values in Flair:- \", data['Flair'].isnull().sum())"
   ]
  },
  {
   "cell_type": "code",
   "execution_count": 7,
   "metadata": {},
   "outputs": [],
   "source": [
    "count = {}\n",
    "for i in data['Flair']:\n",
    "    if i in count:\n",
    "        count[i] += 1\n",
    "    else:\n",
    "        count[i] = 1"
   ]
  },
  {
   "cell_type": "code",
   "execution_count": 8,
   "metadata": {},
   "outputs": [
    {
     "name": "stdout",
     "output_type": "stream",
     "text": [
      "[('Coronavirus', 185), ('AskIndia', 180), ('Non-Political', 165), ('Politics', 151), ('Sports', 77), ('Policy/Economy', 64), ('Scheduled', 43), ('Photography', 30), ('Science/Technology', 27), ('Business/Finance', 19), ('Food', 17), ('CAA-NRC-NPR', 3)]\n"
     ]
    }
   ],
   "source": [
    "sorted_x = sorted(count.items(), key=lambda kv: kv[1])\n",
    "sorted_x.reverse()\n",
    "print(sorted_x)"
   ]
  },
  {
   "cell_type": "code",
   "execution_count": 9,
   "metadata": {},
   "outputs": [
    {
     "data": {
      "text/plain": [
       "(961, 9)"
      ]
     },
     "execution_count": 9,
     "metadata": {},
     "output_type": "execute_result"
    }
   ],
   "source": [
    "data.shape"
   ]
  },
  {
   "cell_type": "code",
   "execution_count": 10,
   "metadata": {},
   "outputs": [
    {
     "data": {
      "text/plain": [
       "\"The real loser in India's errupting Islamaphobia: Caste politics.\""
      ]
     },
     "execution_count": 10,
     "metadata": {},
     "output_type": "execute_result"
    }
   ],
   "source": [
    "data['Title'][0]"
   ]
  },
  {
   "cell_type": "code",
   "execution_count": 11,
   "metadata": {},
   "outputs": [],
   "source": [
    "stop_words = set(stopwords.words(\"english\"))"
   ]
  },
  {
   "cell_type": "code",
   "execution_count": 12,
   "metadata": {},
   "outputs": [],
   "source": [
    "def clean_text(text):\n",
    "    text = re.sub('[/(){}\\[\\]#\\|@,\"\".?'':;*!$]', '', text)\n",
    "    text = re.sub('[^0-9A-Za-z #+_]', '', text)\n",
    "    text = str(\" \".join([w for w in word_tokenize(text) if w not in stop_words]))\n",
    "    return text"
   ]
  },
  {
   "cell_type": "code",
   "execution_count": 13,
   "metadata": {},
   "outputs": [],
   "source": [
    "data['Title'] = data.apply(lambda column: clean_text(column['Title']), axis=1)\n",
    "data['Content'] = data.apply(lambda column: clean_text(column['Content']), axis=1)"
   ]
  },
  {
   "cell_type": "code",
   "execution_count": 14,
   "metadata": {},
   "outputs": [
    {
     "data": {
      "text/plain": [
       "'The real loser Indias errupting Islamaphobia Caste politics'"
      ]
     },
     "execution_count": 14,
     "metadata": {},
     "output_type": "execute_result"
    }
   ],
   "source": [
    "data['Title'][0]"
   ]
  },
  {
   "cell_type": "code",
   "execution_count": 15,
   "metadata": {},
   "outputs": [
    {
     "data": {
      "text/html": [
       "<div>\n",
       "<style scoped>\n",
       "    .dataframe tbody tr th:only-of-type {\n",
       "        vertical-align: middle;\n",
       "    }\n",
       "\n",
       "    .dataframe tbody tr th {\n",
       "        vertical-align: top;\n",
       "    }\n",
       "\n",
       "    .dataframe thead th {\n",
       "        text-align: right;\n",
       "    }\n",
       "</style>\n",
       "<table border=\"1\" class=\"dataframe\">\n",
       "  <thead>\n",
       "    <tr style=\"text-align: right;\">\n",
       "      <th></th>\n",
       "      <th>RID</th>\n",
       "      <th>Title</th>\n",
       "      <th>URL</th>\n",
       "      <th>Score</th>\n",
       "      <th>Comment_Score</th>\n",
       "      <th>Author</th>\n",
       "      <th>Content</th>\n",
       "      <th>Adult</th>\n",
       "      <th>Flair</th>\n",
       "      <th>Length_Title</th>\n",
       "      <th>Length_Content</th>\n",
       "    </tr>\n",
       "  </thead>\n",
       "  <tbody>\n",
       "    <tr>\n",
       "      <th>0</th>\n",
       "      <td>g76o5f</td>\n",
       "      <td>The real loser Indias errupting Islamaphobia C...</td>\n",
       "      <td>https://www.reddit.com/r/india/comments/g76o5f...</td>\n",
       "      <td>88</td>\n",
       "      <td>53</td>\n",
       "      <td>HairLikeWinterFire</td>\n",
       "      <td>TLDR My unqualified opinion dalit political mo...</td>\n",
       "      <td>False</td>\n",
       "      <td>Politics</td>\n",
       "      <td>59</td>\n",
       "      <td>4775</td>\n",
       "    </tr>\n",
       "    <tr>\n",
       "      <th>1</th>\n",
       "      <td>futac9</td>\n",
       "      <td>Pitting community political party fucking stupid</td>\n",
       "      <td>https://www.reddit.com/r/india/comments/futac9...</td>\n",
       "      <td>194</td>\n",
       "      <td>73</td>\n",
       "      <td>chillinvillain122</td>\n",
       "      <td>First let start saying stupid whatever muslims...</td>\n",
       "      <td>False</td>\n",
       "      <td>Politics</td>\n",
       "      <td>48</td>\n",
       "      <td>1091</td>\n",
       "    </tr>\n",
       "    <tr>\n",
       "      <th>2</th>\n",
       "      <td>ff8sth</td>\n",
       "      <td>A new political party gave full front page ad ...</td>\n",
       "      <td>https://i.redd.it/yjo9wpy38el41.jpg</td>\n",
       "      <td>736</td>\n",
       "      <td>146</td>\n",
       "      <td>aaluinsonaout</td>\n",
       "      <td></td>\n",
       "      <td>False</td>\n",
       "      <td>Politics</td>\n",
       "      <td>75</td>\n",
       "      <td>0</td>\n",
       "    </tr>\n",
       "    <tr>\n",
       "      <th>3</th>\n",
       "      <td>fxs1vy</td>\n",
       "      <td>Politics time corona WB CM questions Centres c...</td>\n",
       "      <td>https://www.timesnownews.com/india/article/pol...</td>\n",
       "      <td>83</td>\n",
       "      <td>22</td>\n",
       "      <td>ConcernedCitizen034</td>\n",
       "      <td></td>\n",
       "      <td>False</td>\n",
       "      <td>Politics</td>\n",
       "      <td>82</td>\n",
       "      <td>0</td>\n",
       "    </tr>\n",
       "    <tr>\n",
       "      <th>4</th>\n",
       "      <td>fd7q3z</td>\n",
       "      <td>AAPs woeful response Delhi communal violence r...</td>\n",
       "      <td>https://scroll.in/article/954991/aaps-woeful-r...</td>\n",
       "      <td>213</td>\n",
       "      <td>45</td>\n",
       "      <td>Dumma1729</td>\n",
       "      <td></td>\n",
       "      <td>False</td>\n",
       "      <td>Politics</td>\n",
       "      <td>76</td>\n",
       "      <td>0</td>\n",
       "    </tr>\n",
       "  </tbody>\n",
       "</table>\n",
       "</div>"
      ],
      "text/plain": [
       "      RID                                              Title  \\\n",
       "0  g76o5f  The real loser Indias errupting Islamaphobia C...   \n",
       "1  futac9   Pitting community political party fucking stupid   \n",
       "2  ff8sth  A new political party gave full front page ad ...   \n",
       "3  fxs1vy  Politics time corona WB CM questions Centres c...   \n",
       "4  fd7q3z  AAPs woeful response Delhi communal violence r...   \n",
       "\n",
       "                                                 URL  Score  Comment_Score  \\\n",
       "0  https://www.reddit.com/r/india/comments/g76o5f...     88             53   \n",
       "1  https://www.reddit.com/r/india/comments/futac9...    194             73   \n",
       "2                https://i.redd.it/yjo9wpy38el41.jpg    736            146   \n",
       "3  https://www.timesnownews.com/india/article/pol...     83             22   \n",
       "4  https://scroll.in/article/954991/aaps-woeful-r...    213             45   \n",
       "\n",
       "                Author                                            Content  \\\n",
       "0   HairLikeWinterFire  TLDR My unqualified opinion dalit political mo...   \n",
       "1    chillinvillain122  First let start saying stupid whatever muslims...   \n",
       "2        aaluinsonaout                                                      \n",
       "3  ConcernedCitizen034                                                      \n",
       "4            Dumma1729                                                      \n",
       "\n",
       "   Adult     Flair  Length_Title  Length_Content  \n",
       "0  False  Politics            59            4775  \n",
       "1  False  Politics            48            1091  \n",
       "2  False  Politics            75               0  \n",
       "3  False  Politics            82               0  \n",
       "4  False  Politics            76               0  "
      ]
     },
     "execution_count": 15,
     "metadata": {},
     "output_type": "execute_result"
    }
   ],
   "source": [
    "data['Length_Title'] = data['Title'].apply(len)\n",
    "data['Length_Content'] = data['Content'].apply(len)\n",
    "data.head()"
   ]
  },
  {
   "cell_type": "code",
   "execution_count": 16,
   "metadata": {},
   "outputs": [],
   "source": [
    "data.to_csv(\"Cleaned Reddit Data.csv\")"
   ]
  }
 ],
 "metadata": {
  "kernelspec": {
   "display_name": "Python 3",
   "language": "python",
   "name": "python3"
  },
  "language_info": {
   "codemirror_mode": {
    "name": "ipython",
    "version": 3
   },
   "file_extension": ".py",
   "mimetype": "text/x-python",
   "name": "python",
   "nbconvert_exporter": "python",
   "pygments_lexer": "ipython3",
   "version": "3.7.3"
  }
 },
 "nbformat": 4,
 "nbformat_minor": 2
}
