{
 "cells": [
  {
   "cell_type": "code",
   "execution_count": 1,
   "metadata": {},
   "outputs": [],
   "source": [
    "import praw\n",
    "import pandas as pd"
   ]
  },
  {
   "cell_type": "code",
   "execution_count": 2,
   "metadata": {},
   "outputs": [],
   "source": [
    "client_id = \"zMvnVRM8MN_MRw\"\n",
    "client_secret = \"-JIqik-pmfgku1BVB_2gcoxnMwM\"\n",
    "user_agent = \"FlareReddit\"\n",
    "username = \"psatreddit\"\n",
    "password = \"pankaj123\""
   ]
  },
  {
   "cell_type": "code",
   "execution_count": 3,
   "metadata": {},
   "outputs": [],
   "source": [
    "reddit = praw.Reddit(client_id = client_id, client_secret = client_secret, user_agent = user_agent, username = username, password = password)\n",
    "subreddit = reddit.subreddit('india')"
   ]
  },
  {
   "cell_type": "code",
   "execution_count": 4,
   "metadata": {},
   "outputs": [
    {
     "name": "stdout",
     "output_type": "stream",
     "text": [
      "Total No. Of Flairs:-  12\n"
     ]
    }
   ],
   "source": [
    "flairs = [\"Politics\", \"Non-Political\", \"AskIndia\", \"Policy/Economy\", \"Business/Finance\", \"Science/Technology\", \"Scheduled\", \"Sports\", \"Food\", \"Photography\", \"CAA-NRC-NPR\", \"Coronavirus\"]\n",
    "print(\"Total No. Of Flairs:- \", len(flairs))"
   ]
  },
  {
   "cell_type": "code",
   "execution_count": 5,
   "metadata": {},
   "outputs": [],
   "source": [
    "data = pd.DataFrame(columns=['RID', 'Title', 'URL', 'Score', 'Comment_Score', 'Author', 'Content', 'Adult', 'Flair'])\n",
    "dictionary = {'RID': [], 'Title': [], 'URL': [], 'Score': [], 'Comment_Score': [], 'Author': [], 'Content': [], 'Adult': [], 'Flair': []}"
   ]
  },
  {
   "cell_type": "code",
   "execution_count": 6,
   "metadata": {},
   "outputs": [
    {
     "data": {
      "text/html": [
       "<div>\n",
       "<style scoped>\n",
       "    .dataframe tbody tr th:only-of-type {\n",
       "        vertical-align: middle;\n",
       "    }\n",
       "\n",
       "    .dataframe tbody tr th {\n",
       "        vertical-align: top;\n",
       "    }\n",
       "\n",
       "    .dataframe thead th {\n",
       "        text-align: right;\n",
       "    }\n",
       "</style>\n",
       "<table border=\"1\" class=\"dataframe\">\n",
       "  <thead>\n",
       "    <tr style=\"text-align: right;\">\n",
       "      <th></th>\n",
       "      <th>RID</th>\n",
       "      <th>Title</th>\n",
       "      <th>URL</th>\n",
       "      <th>Score</th>\n",
       "      <th>Comment_Score</th>\n",
       "      <th>Author</th>\n",
       "      <th>Content</th>\n",
       "      <th>Adult</th>\n",
       "      <th>Flair</th>\n",
       "    </tr>\n",
       "  </thead>\n",
       "  <tbody>\n",
       "  </tbody>\n",
       "</table>\n",
       "</div>"
      ],
      "text/plain": [
       "Empty DataFrame\n",
       "Columns: [RID, Title, URL, Score, Comment_Score, Author, Content, Adult, Flair]\n",
       "Index: []"
      ]
     },
     "execution_count": 6,
     "metadata": {},
     "output_type": "execute_result"
    }
   ],
   "source": [
    "data"
   ]
  },
  {
   "cell_type": "code",
   "execution_count": 7,
   "metadata": {},
   "outputs": [],
   "source": [
    "for flair in flairs:\n",
    "    relevant_subreddits = subreddit.search(flair,limit=1000)\n",
    "    for submission in relevant_subreddits:\n",
    "        if submission.link_flair_text == flair:\n",
    "            dictionary['RID'].append(submission.id)\n",
    "            dictionary['Title'].append(submission.title)\n",
    "            dictionary['URL'].append(submission.url)\n",
    "            dictionary['Score'].append(submission.score)\n",
    "            dictionary['Comment_Score'].append(submission.num_comments)\n",
    "            dictionary['Author'].append(submission.author)\n",
    "            dictionary['Content'].append(submission.selftext)\n",
    "            dictionary['Adult'].append(submission.over_18)\n",
    "            dictionary['Flair'].append(submission.link_flair_text)"
   ]
  },
  {
   "cell_type": "code",
   "execution_count": 8,
   "metadata": {},
   "outputs": [],
   "source": [
    "data = pd.DataFrame(dictionary['RID'], columns=[\"RID\"])\n",
    "data['Title'] = dictionary['Title']\n",
    "data['URL'] = dictionary['URL']\n",
    "data['Score'] = dictionary['Score']\n",
    "data['Comment_Score'] = dictionary['Comment_Score']\n",
    "data['Author'] = dictionary['Author']\n",
    "data['Content'] = dictionary['Content']\n",
    "data['Adult'] = dictionary['Adult']\n",
    "data['Flair'] = dictionary['Flair']"
   ]
  },
  {
   "cell_type": "code",
   "execution_count": 12,
   "metadata": {},
   "outputs": [
    {
     "data": {
      "text/html": [
       "<div>\n",
       "<style scoped>\n",
       "    .dataframe tbody tr th:only-of-type {\n",
       "        vertical-align: middle;\n",
       "    }\n",
       "\n",
       "    .dataframe tbody tr th {\n",
       "        vertical-align: top;\n",
       "    }\n",
       "\n",
       "    .dataframe thead th {\n",
       "        text-align: right;\n",
       "    }\n",
       "</style>\n",
       "<table border=\"1\" class=\"dataframe\">\n",
       "  <thead>\n",
       "    <tr style=\"text-align: right;\">\n",
       "      <th></th>\n",
       "      <th>RID</th>\n",
       "      <th>Title</th>\n",
       "      <th>URL</th>\n",
       "      <th>Score</th>\n",
       "      <th>Comment_Score</th>\n",
       "      <th>Author</th>\n",
       "      <th>Content</th>\n",
       "      <th>Adult</th>\n",
       "      <th>Flair</th>\n",
       "    </tr>\n",
       "  </thead>\n",
       "  <tbody>\n",
       "    <tr>\n",
       "      <th>0</th>\n",
       "      <td>g76o5f</td>\n",
       "      <td>The real loser in India's errupting Islamaphob...</td>\n",
       "      <td>https://www.reddit.com/r/india/comments/g76o5f...</td>\n",
       "      <td>88</td>\n",
       "      <td>53</td>\n",
       "      <td>HairLikeWinterFire</td>\n",
       "      <td>TLDR: My (unqualified) opinion is that dalit p...</td>\n",
       "      <td>False</td>\n",
       "      <td>Politics</td>\n",
       "    </tr>\n",
       "    <tr>\n",
       "      <th>1</th>\n",
       "      <td>futac9</td>\n",
       "      <td>Pitting a community against a political party ...</td>\n",
       "      <td>https://www.reddit.com/r/india/comments/futac9...</td>\n",
       "      <td>194</td>\n",
       "      <td>73</td>\n",
       "      <td>chillinvillain122</td>\n",
       "      <td>First of all let me start by saying it was stu...</td>\n",
       "      <td>False</td>\n",
       "      <td>Politics</td>\n",
       "    </tr>\n",
       "    <tr>\n",
       "      <th>2</th>\n",
       "      <td>ff8sth</td>\n",
       "      <td>A new political party gave a full front page a...</td>\n",
       "      <td>https://i.redd.it/yjo9wpy38el41.jpg</td>\n",
       "      <td>736</td>\n",
       "      <td>146</td>\n",
       "      <td>aaluinsonaout</td>\n",
       "      <td></td>\n",
       "      <td>False</td>\n",
       "      <td>Politics</td>\n",
       "    </tr>\n",
       "    <tr>\n",
       "      <th>3</th>\n",
       "      <td>fxs1vy</td>\n",
       "      <td>Politics in the time of corona: WB CM question...</td>\n",
       "      <td>https://www.timesnownews.com/india/article/pol...</td>\n",
       "      <td>83</td>\n",
       "      <td>22</td>\n",
       "      <td>ConcernedCitizen034</td>\n",
       "      <td></td>\n",
       "      <td>False</td>\n",
       "      <td>Politics</td>\n",
       "    </tr>\n",
       "    <tr>\n",
       "      <th>4</th>\n",
       "      <td>fd7q3z</td>\n",
       "      <td>AAP’s woeful response to the Delhi communal vi...</td>\n",
       "      <td>https://scroll.in/article/954991/aaps-woeful-r...</td>\n",
       "      <td>213</td>\n",
       "      <td>45</td>\n",
       "      <td>Dumma1729</td>\n",
       "      <td></td>\n",
       "      <td>False</td>\n",
       "      <td>Politics</td>\n",
       "    </tr>\n",
       "  </tbody>\n",
       "</table>\n",
       "</div>"
      ],
      "text/plain": [
       "      RID                                              Title  \\\n",
       "0  g76o5f  The real loser in India's errupting Islamaphob...   \n",
       "1  futac9  Pitting a community against a political party ...   \n",
       "2  ff8sth  A new political party gave a full front page a...   \n",
       "3  fxs1vy  Politics in the time of corona: WB CM question...   \n",
       "4  fd7q3z  AAP’s woeful response to the Delhi communal vi...   \n",
       "\n",
       "                                                 URL  Score  Comment_Score  \\\n",
       "0  https://www.reddit.com/r/india/comments/g76o5f...     88             53   \n",
       "1  https://www.reddit.com/r/india/comments/futac9...    194             73   \n",
       "2                https://i.redd.it/yjo9wpy38el41.jpg    736            146   \n",
       "3  https://www.timesnownews.com/india/article/pol...     83             22   \n",
       "4  https://scroll.in/article/954991/aaps-woeful-r...    213             45   \n",
       "\n",
       "                Author                                            Content  \\\n",
       "0   HairLikeWinterFire  TLDR: My (unqualified) opinion is that dalit p...   \n",
       "1    chillinvillain122  First of all let me start by saying it was stu...   \n",
       "2        aaluinsonaout                                                      \n",
       "3  ConcernedCitizen034                                                      \n",
       "4            Dumma1729                                                      \n",
       "\n",
       "   Adult     Flair  \n",
       "0  False  Politics  \n",
       "1  False  Politics  \n",
       "2  False  Politics  \n",
       "3  False  Politics  \n",
       "4  False  Politics  "
      ]
     },
     "execution_count": 12,
     "metadata": {},
     "output_type": "execute_result"
    }
   ],
   "source": [
    "data.head()"
   ]
  },
  {
   "cell_type": "code",
   "execution_count": 9,
   "metadata": {},
   "outputs": [],
   "source": [
    "data.to_csv(\"Reddit Data.csv\")"
   ]
  }
 ],
 "metadata": {
  "kernelspec": {
   "display_name": "Python 3",
   "language": "python",
   "name": "python3"
  },
  "language_info": {
   "codemirror_mode": {
    "name": "ipython",
    "version": 3
   },
   "file_extension": ".py",
   "mimetype": "text/x-python",
   "name": "python",
   "nbconvert_exporter": "python",
   "pygments_lexer": "ipython3",
   "version": "3.7.3"
  }
 },
 "nbformat": 4,
 "nbformat_minor": 2
}
