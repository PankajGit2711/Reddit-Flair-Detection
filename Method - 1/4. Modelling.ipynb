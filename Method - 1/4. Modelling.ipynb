{
 "cells": [
  {
   "cell_type": "code",
   "execution_count": 1,
   "metadata": {},
   "outputs": [
    {
     "name": "stderr",
     "output_type": "stream",
     "text": [
      "C:\\Users\\hp\\Anaconda3\\lib\\site-packages\\sklearn\\externals\\joblib\\__init__.py:15: DeprecationWarning: sklearn.externals.joblib is deprecated in 0.21 and will be removed in 0.23. Please import this functionality directly from joblib, which can be installed with: pip install joblib. If this warning is raised when loading pickled models, you may need to re-serialize those models with scikit-learn 0.21+.\n",
      "  warnings.warn(msg, category=DeprecationWarning)\n"
     ]
    }
   ],
   "source": [
    "import numpy as np\n",
    "import pandas as pd\n",
    "from sklearn.model_selection import train_test_split\n",
    "from sklearn.feature_extraction.text import CountVectorizer, TfidfTransformer\n",
    "from sklearn.pipeline import Pipeline\n",
    "from sklearn.naive_bayes import MultinomialNB\n",
    "from sklearn.linear_model import SGDClassifier\n",
    "from sklearn.ensemble import RandomForestClassifier\n",
    "from sklearn.linear_model import LogisticRegression\n",
    "from sklearn.svm import LinearSVC\n",
    "from sklearn.neural_network import MLPClassifier\n",
    "from xgboost import XGBClassifier\n",
    "from sklearn.metrics import accuracy_score, classification_report\n",
    "from sklearn.externals import joblib"
   ]
  },
  {
   "cell_type": "code",
   "execution_count": 2,
   "metadata": {},
   "outputs": [
    {
     "data": {
      "text/html": [
       "<div>\n",
       "<style scoped>\n",
       "    .dataframe tbody tr th:only-of-type {\n",
       "        vertical-align: middle;\n",
       "    }\n",
       "\n",
       "    .dataframe tbody tr th {\n",
       "        vertical-align: top;\n",
       "    }\n",
       "\n",
       "    .dataframe thead th {\n",
       "        text-align: right;\n",
       "    }\n",
       "</style>\n",
       "<table border=\"1\" class=\"dataframe\">\n",
       "  <thead>\n",
       "    <tr style=\"text-align: right;\">\n",
       "      <th></th>\n",
       "      <th>RID</th>\n",
       "      <th>Title</th>\n",
       "      <th>URL</th>\n",
       "      <th>Score</th>\n",
       "      <th>Comment_Score</th>\n",
       "      <th>Author</th>\n",
       "      <th>Content</th>\n",
       "      <th>Adult</th>\n",
       "      <th>Flair</th>\n",
       "      <th>Length_Title</th>\n",
       "      <th>Length_Content</th>\n",
       "    </tr>\n",
       "  </thead>\n",
       "  <tbody>\n",
       "    <tr>\n",
       "      <th>0</th>\n",
       "      <td>g76o5f</td>\n",
       "      <td>The real loser Indias errupting Islamaphobia C...</td>\n",
       "      <td>https://www.reddit.com/r/india/comments/g76o5f...</td>\n",
       "      <td>88</td>\n",
       "      <td>53</td>\n",
       "      <td>HairLikeWinterFire</td>\n",
       "      <td>TLDR My unqualified opinion dalit political mo...</td>\n",
       "      <td>False</td>\n",
       "      <td>Politics</td>\n",
       "      <td>59</td>\n",
       "      <td>4775</td>\n",
       "    </tr>\n",
       "    <tr>\n",
       "      <th>1</th>\n",
       "      <td>futac9</td>\n",
       "      <td>Pitting community political party fucking stupid</td>\n",
       "      <td>https://www.reddit.com/r/india/comments/futac9...</td>\n",
       "      <td>194</td>\n",
       "      <td>73</td>\n",
       "      <td>chillinvillain122</td>\n",
       "      <td>First let start saying stupid whatever muslims...</td>\n",
       "      <td>False</td>\n",
       "      <td>Politics</td>\n",
       "      <td>48</td>\n",
       "      <td>1091</td>\n",
       "    </tr>\n",
       "    <tr>\n",
       "      <th>2</th>\n",
       "      <td>ff8sth</td>\n",
       "      <td>A new political party gave full front page ad ...</td>\n",
       "      <td>https://i.redd.it/yjo9wpy38el41.jpg</td>\n",
       "      <td>736</td>\n",
       "      <td>146</td>\n",
       "      <td>aaluinsonaout</td>\n",
       "      <td>nan</td>\n",
       "      <td>False</td>\n",
       "      <td>Politics</td>\n",
       "      <td>75</td>\n",
       "      <td>0</td>\n",
       "    </tr>\n",
       "    <tr>\n",
       "      <th>3</th>\n",
       "      <td>fxs1vy</td>\n",
       "      <td>Politics time corona WB CM questions Centres c...</td>\n",
       "      <td>https://www.timesnownews.com/india/article/pol...</td>\n",
       "      <td>83</td>\n",
       "      <td>22</td>\n",
       "      <td>ConcernedCitizen034</td>\n",
       "      <td>nan</td>\n",
       "      <td>False</td>\n",
       "      <td>Politics</td>\n",
       "      <td>82</td>\n",
       "      <td>0</td>\n",
       "    </tr>\n",
       "    <tr>\n",
       "      <th>4</th>\n",
       "      <td>fd7q3z</td>\n",
       "      <td>AAPs woeful response Delhi communal violence r...</td>\n",
       "      <td>https://scroll.in/article/954991/aaps-woeful-r...</td>\n",
       "      <td>213</td>\n",
       "      <td>45</td>\n",
       "      <td>Dumma1729</td>\n",
       "      <td>nan</td>\n",
       "      <td>False</td>\n",
       "      <td>Politics</td>\n",
       "      <td>76</td>\n",
       "      <td>0</td>\n",
       "    </tr>\n",
       "  </tbody>\n",
       "</table>\n",
       "</div>"
      ],
      "text/plain": [
       "      RID                                              Title  \\\n",
       "0  g76o5f  The real loser Indias errupting Islamaphobia C...   \n",
       "1  futac9   Pitting community political party fucking stupid   \n",
       "2  ff8sth  A new political party gave full front page ad ...   \n",
       "3  fxs1vy  Politics time corona WB CM questions Centres c...   \n",
       "4  fd7q3z  AAPs woeful response Delhi communal violence r...   \n",
       "\n",
       "                                                 URL  Score  Comment_Score  \\\n",
       "0  https://www.reddit.com/r/india/comments/g76o5f...     88             53   \n",
       "1  https://www.reddit.com/r/india/comments/futac9...    194             73   \n",
       "2                https://i.redd.it/yjo9wpy38el41.jpg    736            146   \n",
       "3  https://www.timesnownews.com/india/article/pol...     83             22   \n",
       "4  https://scroll.in/article/954991/aaps-woeful-r...    213             45   \n",
       "\n",
       "                Author                                            Content  \\\n",
       "0   HairLikeWinterFire  TLDR My unqualified opinion dalit political mo...   \n",
       "1    chillinvillain122  First let start saying stupid whatever muslims...   \n",
       "2        aaluinsonaout                                                nan   \n",
       "3  ConcernedCitizen034                                                nan   \n",
       "4            Dumma1729                                                nan   \n",
       "\n",
       "   Adult     Flair  Length_Title  Length_Content  \n",
       "0  False  Politics            59            4775  \n",
       "1  False  Politics            48            1091  \n",
       "2  False  Politics            75               0  \n",
       "3  False  Politics            82               0  \n",
       "4  False  Politics            76               0  "
      ]
     },
     "execution_count": 2,
     "metadata": {},
     "output_type": "execute_result"
    }
   ],
   "source": [
    "data = pd.read_csv(\"Cleaned Reddit Data.csv\")\n",
    "data.Title = data.Title.astype(str)\n",
    "data.Content = data.Content.astype(str)\n",
    "data.drop(\"Unnamed: 0\", inplace=True, axis=1)\n",
    "data.head()"
   ]
  },
  {
   "cell_type": "markdown",
   "metadata": {},
   "source": [
    "# Taking TITLE as Feature"
   ]
  },
  {
   "cell_type": "code",
   "execution_count": 5,
   "metadata": {},
   "outputs": [],
   "source": [
    "x = data[\"Title\"]\n",
    "y = data[\"Flair\"]\n",
    "\n",
    "xtrain, xtest, ytrain, ytest = train_test_split(x, y, test_size=0.2)"
   ]
  },
  {
   "cell_type": "markdown",
   "metadata": {},
   "source": [
    "### 1. Random Forest Classifier"
   ]
  },
  {
   "cell_type": "code",
   "execution_count": 6,
   "metadata": {},
   "outputs": [],
   "source": [
    "model_rforest = Pipeline([('vect', CountVectorizer()),\n",
    "                ('tfidf', TfidfTransformer()),\n",
    "                ('clf', RandomForestClassifier(n_estimators=300)),\n",
    "                ])\n",
    "model_rforest.fit(xtrain, ytrain)\n",
    "\n",
    "y_pred = model_rforest.predict(xtest)"
   ]
  },
  {
   "cell_type": "code",
   "execution_count": 7,
   "metadata": {},
   "outputs": [
    {
     "name": "stdout",
     "output_type": "stream",
     "text": [
      "                    precision    recall  f1-score   support\n",
      "\n",
      "          AskIndia       0.67      0.94      0.78        31\n",
      "  Business/Finance       0.00      0.00      0.00         4\n",
      "       CAA-NRC-NPR       0.00      0.00      0.00         1\n",
      "       Coronavirus       0.90      0.95      0.92        37\n",
      "              Food       1.00      0.67      0.80         3\n",
      "     Non-Political       0.94      0.91      0.93        34\n",
      "       Photography       1.00      0.56      0.71         9\n",
      "    Policy/Economy       0.67      0.46      0.55        13\n",
      "          Politics       0.74      0.78      0.76        40\n",
      "         Scheduled       1.00      1.00      1.00         8\n",
      "Science/Technology       0.75      0.75      0.75         4\n",
      "            Sports       1.00      0.78      0.88         9\n",
      "\n",
      "          accuracy                           0.81       193\n",
      "         macro avg       0.72      0.65      0.67       193\n",
      "      weighted avg       0.81      0.81      0.80       193\n",
      "\n",
      "0.8134715025906736\n"
     ]
    },
    {
     "name": "stderr",
     "output_type": "stream",
     "text": [
      "C:\\Users\\hp\\Anaconda3\\lib\\site-packages\\sklearn\\metrics\\classification.py:1437: UndefinedMetricWarning: Precision and F-score are ill-defined and being set to 0.0 in labels with no predicted samples.\n",
      "  'precision', 'predicted', average, warn_for)\n"
     ]
    }
   ],
   "source": [
    "print(classification_report(ytest, y_pred))\n",
    "print(accuracy_score(ytest, y_pred))"
   ]
  },
  {
   "cell_type": "markdown",
   "metadata": {},
   "source": [
    "### 2. Multinomial Naive Bayes Classifier"
   ]
  },
  {
   "cell_type": "code",
   "execution_count": 8,
   "metadata": {},
   "outputs": [],
   "source": [
    "model_nb = Pipeline([('vect', CountVectorizer()),\n",
    "                ('tfidf', TfidfTransformer()),\n",
    "                ('clf', MultinomialNB()),\n",
    "                ])\n",
    "model_nb.fit(xtrain, ytrain)\n",
    "\n",
    "y_pred = model_nb.predict(xtest)"
   ]
  },
  {
   "cell_type": "code",
   "execution_count": 9,
   "metadata": {},
   "outputs": [
    {
     "name": "stdout",
     "output_type": "stream",
     "text": [
      "                    precision    recall  f1-score   support\n",
      "\n",
      "          AskIndia       0.44      1.00      0.61        31\n",
      "  Business/Finance       0.00      0.00      0.00         4\n",
      "       CAA-NRC-NPR       0.00      0.00      0.00         1\n",
      "       Coronavirus       0.67      0.97      0.79        37\n",
      "              Food       0.00      0.00      0.00         3\n",
      "     Non-Political       0.82      0.91      0.86        34\n",
      "       Photography       0.00      0.00      0.00         9\n",
      "    Policy/Economy       0.00      0.00      0.00        13\n",
      "          Politics       0.92      0.55      0.69        40\n",
      "         Scheduled       1.00      0.88      0.93         8\n",
      "Science/Technology       0.00      0.00      0.00         4\n",
      "            Sports       0.00      0.00      0.00         9\n",
      "\n",
      "          accuracy                           0.66       193\n",
      "         macro avg       0.32      0.36      0.32       193\n",
      "      weighted avg       0.57      0.66      0.58       193\n",
      "\n",
      "0.6580310880829016\n"
     ]
    },
    {
     "name": "stderr",
     "output_type": "stream",
     "text": [
      "C:\\Users\\hp\\Anaconda3\\lib\\site-packages\\sklearn\\metrics\\classification.py:1437: UndefinedMetricWarning: Precision and F-score are ill-defined and being set to 0.0 in labels with no predicted samples.\n",
      "  'precision', 'predicted', average, warn_for)\n"
     ]
    }
   ],
   "source": [
    "print(classification_report(ytest, y_pred))\n",
    "print(accuracy_score(ytest, y_pred))"
   ]
  },
  {
   "cell_type": "markdown",
   "metadata": {},
   "source": [
    "### 3. Stochastic Gradient Descent Classifier"
   ]
  },
  {
   "cell_type": "code",
   "execution_count": 10,
   "metadata": {},
   "outputs": [],
   "source": [
    "model_sgd = Pipeline([('vect', CountVectorizer()),\n",
    "                ('tfidf', TfidfTransformer()),\n",
    "                ('clf', SGDClassifier()),\n",
    "                ])\n",
    "model_sgd.fit(xtrain, ytrain)\n",
    "\n",
    "y_pred = model_sgd.predict(xtest)"
   ]
  },
  {
   "cell_type": "code",
   "execution_count": 11,
   "metadata": {},
   "outputs": [
    {
     "name": "stdout",
     "output_type": "stream",
     "text": [
      "                    precision    recall  f1-score   support\n",
      "\n",
      "          AskIndia       0.82      0.90      0.86        31\n",
      "  Business/Finance       0.00      0.00      0.00         4\n",
      "       CAA-NRC-NPR       0.00      0.00      0.00         1\n",
      "       Coronavirus       0.92      0.95      0.93        37\n",
      "              Food       1.00      0.67      0.80         3\n",
      "     Non-Political       0.91      0.94      0.93        34\n",
      "       Photography       1.00      0.56      0.71         9\n",
      "    Policy/Economy       0.50      0.54      0.52        13\n",
      "          Politics       0.90      0.88      0.89        40\n",
      "         Scheduled       1.00      1.00      1.00         8\n",
      "Science/Technology       0.75      0.75      0.75         4\n",
      "            Sports       0.82      1.00      0.90         9\n",
      "\n",
      "          accuracy                           0.85       193\n",
      "         macro avg       0.72      0.68      0.69       193\n",
      "      weighted avg       0.85      0.85      0.84       193\n",
      "\n",
      "0.8497409326424871\n"
     ]
    }
   ],
   "source": [
    "print(classification_report(ytest, y_pred))\n",
    "print(accuracy_score(ytest, y_pred))"
   ]
  },
  {
   "cell_type": "markdown",
   "metadata": {},
   "source": [
    "### 4. Multi Layer Perceptron Classifier"
   ]
  },
  {
   "cell_type": "code",
   "execution_count": 12,
   "metadata": {},
   "outputs": [],
   "source": [
    "model_mlp = Pipeline([('vect', CountVectorizer()),\n",
    "                ('tfidf', TfidfTransformer()),\n",
    "                ('clf', MLPClassifier()),\n",
    "                ])\n",
    "model_mlp.fit(xtrain, ytrain)\n",
    "\n",
    "y_pred = model_mlp.predict(xtest)"
   ]
  },
  {
   "cell_type": "code",
   "execution_count": 13,
   "metadata": {},
   "outputs": [
    {
     "name": "stdout",
     "output_type": "stream",
     "text": [
      "                    precision    recall  f1-score   support\n",
      "\n",
      "          AskIndia       0.51      0.87      0.64        31\n",
      "  Business/Finance       0.00      0.00      0.00         4\n",
      "       CAA-NRC-NPR       0.00      0.00      0.00         1\n",
      "       Coronavirus       0.79      0.89      0.84        37\n",
      "              Food       0.00      0.00      0.00         3\n",
      "     Non-Political       0.74      0.74      0.74        34\n",
      "       Photography       1.00      0.33      0.50         9\n",
      "    Policy/Economy       0.45      0.38      0.42        13\n",
      "          Politics       0.84      0.65      0.73        40\n",
      "         Scheduled       1.00      0.88      0.93         8\n",
      "Science/Technology       0.75      0.75      0.75         4\n",
      "            Sports       0.86      0.67      0.75         9\n",
      "\n",
      "          accuracy                           0.70       193\n",
      "         macro avg       0.58      0.51      0.52       193\n",
      "      weighted avg       0.71      0.70      0.69       193\n",
      "\n",
      "0.6994818652849741\n"
     ]
    },
    {
     "name": "stderr",
     "output_type": "stream",
     "text": [
      "C:\\Users\\hp\\Anaconda3\\lib\\site-packages\\sklearn\\metrics\\classification.py:1437: UndefinedMetricWarning: Precision and F-score are ill-defined and being set to 0.0 in labels with no predicted samples.\n",
      "  'precision', 'predicted', average, warn_for)\n"
     ]
    }
   ],
   "source": [
    "print(classification_report(ytest, y_pred))\n",
    "print(accuracy_score(ytest, y_pred))"
   ]
  },
  {
   "cell_type": "markdown",
   "metadata": {},
   "source": [
    "### 5. Logistic Regression"
   ]
  },
  {
   "cell_type": "code",
   "execution_count": 14,
   "metadata": {},
   "outputs": [
    {
     "name": "stderr",
     "output_type": "stream",
     "text": [
      "C:\\Users\\hp\\Anaconda3\\lib\\site-packages\\sklearn\\linear_model\\logistic.py:432: FutureWarning: Default solver will be changed to 'lbfgs' in 0.22. Specify a solver to silence this warning.\n",
      "  FutureWarning)\n",
      "C:\\Users\\hp\\Anaconda3\\lib\\site-packages\\sklearn\\linear_model\\logistic.py:469: FutureWarning: Default multi_class will be changed to 'auto' in 0.22. Specify the multi_class option to silence this warning.\n",
      "  \"this warning.\", FutureWarning)\n"
     ]
    }
   ],
   "source": [
    "model_log = Pipeline([('vect', CountVectorizer()),\n",
    "                ('tfidf', TfidfTransformer()),\n",
    "                ('clf', LogisticRegression()),\n",
    "                ])\n",
    "model_log.fit(xtrain, ytrain)\n",
    "\n",
    "y_pred = model_log.predict(xtest)"
   ]
  },
  {
   "cell_type": "code",
   "execution_count": 15,
   "metadata": {},
   "outputs": [
    {
     "name": "stdout",
     "output_type": "stream",
     "text": [
      "                    precision    recall  f1-score   support\n",
      "\n",
      "          AskIndia       0.53      1.00      0.70        31\n",
      "  Business/Finance       0.00      0.00      0.00         4\n",
      "       CAA-NRC-NPR       0.00      0.00      0.00         1\n",
      "       Coronavirus       0.74      0.95      0.83        37\n",
      "              Food       0.00      0.00      0.00         3\n",
      "     Non-Political       0.91      0.94      0.93        34\n",
      "       Photography       1.00      0.33      0.50         9\n",
      "    Policy/Economy       1.00      0.08      0.14        13\n",
      "          Politics       0.89      0.78      0.83        40\n",
      "         Scheduled       1.00      1.00      1.00         8\n",
      "Science/Technology       0.00      0.00      0.00         4\n",
      "            Sports       1.00      0.67      0.80         9\n",
      "\n",
      "          accuracy                           0.76       193\n",
      "         macro avg       0.59      0.48      0.48       193\n",
      "      weighted avg       0.78      0.76      0.72       193\n",
      "\n",
      "0.7616580310880829\n"
     ]
    }
   ],
   "source": [
    "print(classification_report(ytest, y_pred))\n",
    "print(accuracy_score(ytest, y_pred))"
   ]
  },
  {
   "cell_type": "markdown",
   "metadata": {},
   "source": [
    "### 6. XGBoost Classifier"
   ]
  },
  {
   "cell_type": "code",
   "execution_count": 16,
   "metadata": {},
   "outputs": [],
   "source": [
    "model_xgb = Pipeline([('vect', CountVectorizer()),\n",
    "                ('tfidf', TfidfTransformer()),\n",
    "                ('clf', XGBClassifier()),\n",
    "                ])\n",
    "model_xgb.fit(xtrain, ytrain)\n",
    "\n",
    "y_pred = model_xgb.predict(xtest)"
   ]
  },
  {
   "cell_type": "code",
   "execution_count": 17,
   "metadata": {},
   "outputs": [
    {
     "name": "stdout",
     "output_type": "stream",
     "text": [
      "                    precision    recall  f1-score   support\n",
      "\n",
      "          AskIndia       0.79      0.87      0.83        31\n",
      "  Business/Finance       0.00      0.00      0.00         4\n",
      "       CAA-NRC-NPR       0.00      0.00      0.00         1\n",
      "       Coronavirus       0.97      0.95      0.96        37\n",
      "              Food       1.00      0.67      0.80         3\n",
      "     Non-Political       0.97      0.85      0.91        34\n",
      "       Photography       1.00      0.56      0.71         9\n",
      "    Policy/Economy       0.58      0.54      0.56        13\n",
      "          Politics       0.63      0.80      0.70        40\n",
      "         Scheduled       1.00      1.00      1.00         8\n",
      "Science/Technology       0.75      0.75      0.75         4\n",
      "            Sports       0.64      0.78      0.70         9\n",
      "\n",
      "          accuracy                           0.80       193\n",
      "         macro avg       0.69      0.65      0.66       193\n",
      "      weighted avg       0.80      0.80      0.80       193\n",
      "\n",
      "0.8031088082901554\n"
     ]
    }
   ],
   "source": [
    "print(classification_report(ytest, y_pred))\n",
    "print(accuracy_score(ytest, y_pred))"
   ]
  },
  {
   "cell_type": "markdown",
   "metadata": {},
   "source": [
    "### 7. Linear Support Vector Machine Classifier"
   ]
  },
  {
   "cell_type": "code",
   "execution_count": 18,
   "metadata": {},
   "outputs": [],
   "source": [
    "model_linearsvc = Pipeline([('vect', CountVectorizer()),\n",
    "                ('tfidf', TfidfTransformer()),\n",
    "                ('clf', LinearSVC()),\n",
    "                ])\n",
    "model_linearsvc.fit(xtrain, ytrain)\n",
    "\n",
    "y_pred = model_linearsvc.predict(xtest)"
   ]
  },
  {
   "cell_type": "code",
   "execution_count": 19,
   "metadata": {},
   "outputs": [
    {
     "name": "stdout",
     "output_type": "stream",
     "text": [
      "                    precision    recall  f1-score   support\n",
      "\n",
      "          AskIndia       0.77      0.97      0.86        31\n",
      "  Business/Finance       0.00      0.00      0.00         4\n",
      "       CAA-NRC-NPR       0.00      0.00      0.00         1\n",
      "       Coronavirus       0.95      0.95      0.95        37\n",
      "              Food       1.00      0.67      0.80         3\n",
      "     Non-Political       0.92      0.97      0.94        34\n",
      "       Photography       1.00      0.56      0.71         9\n",
      "    Policy/Economy       0.64      0.54      0.58        13\n",
      "          Politics       0.92      0.88      0.90        40\n",
      "         Scheduled       1.00      1.00      1.00         8\n",
      "Science/Technology       0.75      0.75      0.75         4\n",
      "            Sports       0.82      1.00      0.90         9\n",
      "\n",
      "          accuracy                           0.87       193\n",
      "         macro avg       0.73      0.69      0.70       193\n",
      "      weighted avg       0.86      0.87      0.86       193\n",
      "\n",
      "0.8652849740932642\n"
     ]
    }
   ],
   "source": [
    "print(classification_report(ytest, y_pred))\n",
    "print(accuracy_score(ytest, y_pred))"
   ]
  },
  {
   "cell_type": "markdown",
   "metadata": {},
   "source": [
    "# Taking Content as Feature"
   ]
  },
  {
   "cell_type": "code",
   "execution_count": 20,
   "metadata": {},
   "outputs": [],
   "source": [
    "x = data[\"Content\"]\n",
    "y = data[\"Flair\"]\n",
    "\n",
    "xtrain, xtest, ytrain, ytest = train_test_split(x, y, test_size=0.2)"
   ]
  },
  {
   "cell_type": "markdown",
   "metadata": {},
   "source": [
    "### 1. Random Forest Classifier"
   ]
  },
  {
   "cell_type": "code",
   "execution_count": 21,
   "metadata": {},
   "outputs": [],
   "source": [
    "model_rforest = Pipeline([('vect', CountVectorizer()),\n",
    "                ('tfidf', TfidfTransformer()),\n",
    "                ('clf', RandomForestClassifier(n_estimators=300)),\n",
    "                ])\n",
    "model_rforest.fit(xtrain, ytrain)\n",
    "\n",
    "y_pred = model_rforest.predict(xtest)"
   ]
  },
  {
   "cell_type": "code",
   "execution_count": 22,
   "metadata": {},
   "outputs": [
    {
     "name": "stdout",
     "output_type": "stream",
     "text": [
      "                    precision    recall  f1-score   support\n",
      "\n",
      "          AskIndia       0.48      0.91      0.63        35\n",
      "  Business/Finance       0.00      0.00      0.00         6\n",
      "       CAA-NRC-NPR       0.00      0.00      0.00         2\n",
      "       Coronavirus       0.32      1.00      0.48        34\n",
      "              Food       0.00      0.00      0.00         6\n",
      "     Non-Political       0.40      0.06      0.11        31\n",
      "       Photography       0.00      0.00      0.00         4\n",
      "    Policy/Economy       0.50      0.27      0.35        11\n",
      "          Politics       0.00      0.00      0.00        34\n",
      "         Scheduled       1.00      0.80      0.89        10\n",
      "Science/Technology       0.00      0.00      0.00         5\n",
      "            Sports       0.00      0.00      0.00        15\n",
      "\n",
      "          accuracy                           0.41       193\n",
      "         macro avg       0.22      0.25      0.21       193\n",
      "      weighted avg       0.29      0.41      0.28       193\n",
      "\n",
      "0.40932642487046633\n"
     ]
    },
    {
     "name": "stderr",
     "output_type": "stream",
     "text": [
      "C:\\Users\\hp\\Anaconda3\\lib\\site-packages\\sklearn\\metrics\\classification.py:1437: UndefinedMetricWarning: Precision and F-score are ill-defined and being set to 0.0 in labels with no predicted samples.\n",
      "  'precision', 'predicted', average, warn_for)\n"
     ]
    }
   ],
   "source": [
    "print(classification_report(ytest, y_pred))\n",
    "print(accuracy_score(ytest, y_pred))"
   ]
  },
  {
   "cell_type": "markdown",
   "metadata": {},
   "source": [
    "### 2. Multinomial Naive Bayes Classifier"
   ]
  },
  {
   "cell_type": "code",
   "execution_count": 23,
   "metadata": {},
   "outputs": [],
   "source": [
    "model_nb = Pipeline([('vect', CountVectorizer()),\n",
    "                ('tfidf', TfidfTransformer()),\n",
    "                ('clf', MultinomialNB()),\n",
    "                ])\n",
    "model_nb.fit(xtrain, ytrain)\n",
    "\n",
    "y_pred = model_nb.predict(xtest)"
   ]
  },
  {
   "cell_type": "code",
   "execution_count": 24,
   "metadata": {},
   "outputs": [
    {
     "name": "stdout",
     "output_type": "stream",
     "text": [
      "                    precision    recall  f1-score   support\n",
      "\n",
      "          AskIndia       0.45      0.97      0.61        35\n",
      "  Business/Finance       0.00      0.00      0.00         6\n",
      "       CAA-NRC-NPR       0.00      0.00      0.00         2\n",
      "       Coronavirus       0.31      1.00      0.48        34\n",
      "              Food       0.00      0.00      0.00         6\n",
      "     Non-Political       0.00      0.00      0.00        31\n",
      "       Photography       0.00      0.00      0.00         4\n",
      "    Policy/Economy       0.00      0.00      0.00        11\n",
      "          Politics       0.00      0.00      0.00        34\n",
      "         Scheduled       1.00      0.80      0.89        10\n",
      "Science/Technology       0.00      0.00      0.00         5\n",
      "            Sports       0.00      0.00      0.00        15\n",
      "\n",
      "          accuracy                           0.39       193\n",
      "         macro avg       0.15      0.23      0.16       193\n",
      "      weighted avg       0.19      0.39      0.24       193\n",
      "\n",
      "0.39378238341968913\n"
     ]
    },
    {
     "name": "stderr",
     "output_type": "stream",
     "text": [
      "C:\\Users\\hp\\Anaconda3\\lib\\site-packages\\sklearn\\metrics\\classification.py:1437: UndefinedMetricWarning: Precision and F-score are ill-defined and being set to 0.0 in labels with no predicted samples.\n",
      "  'precision', 'predicted', average, warn_for)\n"
     ]
    }
   ],
   "source": [
    "print(classification_report(ytest, y_pred))\n",
    "print(accuracy_score(ytest, y_pred))"
   ]
  },
  {
   "cell_type": "markdown",
   "metadata": {},
   "source": [
    "### 3. Stochastic Gradient Descent Classifier"
   ]
  },
  {
   "cell_type": "code",
   "execution_count": 25,
   "metadata": {},
   "outputs": [],
   "source": [
    "model_sgd = Pipeline([('vect', CountVectorizer()),\n",
    "                ('tfidf', TfidfTransformer()),\n",
    "                ('clf', SGDClassifier()),\n",
    "                ])\n",
    "model_sgd.fit(xtrain, ytrain)\n",
    "\n",
    "y_pred = model_sgd.predict(xtest)"
   ]
  },
  {
   "cell_type": "code",
   "execution_count": 26,
   "metadata": {},
   "outputs": [
    {
     "name": "stdout",
     "output_type": "stream",
     "text": [
      "                    precision    recall  f1-score   support\n",
      "\n",
      "          AskIndia       0.60      0.83      0.70        35\n",
      "  Business/Finance       0.00      0.00      0.00         6\n",
      "       CAA-NRC-NPR       0.02      1.00      0.04         2\n",
      "       Coronavirus       1.00      0.03      0.06        34\n",
      "              Food       0.00      0.00      0.00         6\n",
      "     Non-Political       0.38      0.10      0.15        31\n",
      "       Photography       0.00      0.00      0.00         4\n",
      "    Policy/Economy       0.55      0.55      0.55        11\n",
      "          Politics       0.38      0.09      0.14        34\n",
      "         Scheduled       1.00      0.90      0.95        10\n",
      "Science/Technology       0.00      0.00      0.00         5\n",
      "            Sports       1.00      0.13      0.24        15\n",
      "\n",
      "          accuracy                           0.28       193\n",
      "         macro avg       0.41      0.30      0.23       193\n",
      "      weighted avg       0.57      0.28      0.29       193\n",
      "\n",
      "0.2849740932642487\n"
     ]
    }
   ],
   "source": [
    "print(classification_report(ytest, y_pred))\n",
    "print(accuracy_score(ytest, y_pred))"
   ]
  },
  {
   "cell_type": "markdown",
   "metadata": {},
   "source": [
    "### 4. Multi Layer Perceptron Classifier"
   ]
  },
  {
   "cell_type": "code",
   "execution_count": 27,
   "metadata": {},
   "outputs": [],
   "source": [
    "model_mlp = Pipeline([('vect', CountVectorizer()),\n",
    "                ('tfidf', TfidfTransformer()),\n",
    "                ('clf', MLPClassifier()),\n",
    "                ])\n",
    "model_mlp.fit(xtrain, ytrain)\n",
    "\n",
    "y_pred = model_mlp.predict(xtest)"
   ]
  },
  {
   "cell_type": "code",
   "execution_count": 28,
   "metadata": {},
   "outputs": [
    {
     "name": "stdout",
     "output_type": "stream",
     "text": [
      "                    precision    recall  f1-score   support\n",
      "\n",
      "          AskIndia       0.54      0.89      0.67        35\n",
      "  Business/Finance       0.00      0.00      0.00         6\n",
      "       CAA-NRC-NPR       0.00      0.00      0.00         2\n",
      "       Coronavirus       0.31      1.00      0.48        34\n",
      "              Food       0.00      0.00      0.00         6\n",
      "     Non-Political       0.50      0.13      0.21        31\n",
      "       Photography       0.00      0.00      0.00         4\n",
      "    Policy/Economy       0.50      0.27      0.35        11\n",
      "          Politics       0.60      0.09      0.15        34\n",
      "         Scheduled       1.00      0.80      0.89        10\n",
      "Science/Technology       0.00      0.00      0.00         5\n",
      "            Sports       1.00      0.07      0.12        15\n",
      "\n",
      "          accuracy                           0.44       193\n",
      "         macro avg       0.37      0.27      0.24       193\n",
      "      weighted avg       0.50      0.44      0.34       193\n",
      "\n",
      "0.43523316062176165\n"
     ]
    },
    {
     "name": "stderr",
     "output_type": "stream",
     "text": [
      "C:\\Users\\hp\\Anaconda3\\lib\\site-packages\\sklearn\\metrics\\classification.py:1437: UndefinedMetricWarning: Precision and F-score are ill-defined and being set to 0.0 in labels with no predicted samples.\n",
      "  'precision', 'predicted', average, warn_for)\n"
     ]
    }
   ],
   "source": [
    "print(classification_report(ytest, y_pred))\n",
    "print(accuracy_score(ytest, y_pred))"
   ]
  },
  {
   "cell_type": "markdown",
   "metadata": {},
   "source": [
    "### 5. Logistic Regression"
   ]
  },
  {
   "cell_type": "code",
   "execution_count": 29,
   "metadata": {},
   "outputs": [
    {
     "name": "stderr",
     "output_type": "stream",
     "text": [
      "C:\\Users\\hp\\Anaconda3\\lib\\site-packages\\sklearn\\linear_model\\logistic.py:432: FutureWarning: Default solver will be changed to 'lbfgs' in 0.22. Specify a solver to silence this warning.\n",
      "  FutureWarning)\n",
      "C:\\Users\\hp\\Anaconda3\\lib\\site-packages\\sklearn\\linear_model\\logistic.py:469: FutureWarning: Default multi_class will be changed to 'auto' in 0.22. Specify the multi_class option to silence this warning.\n",
      "  \"this warning.\", FutureWarning)\n"
     ]
    }
   ],
   "source": [
    "model_log = Pipeline([('vect', CountVectorizer()),\n",
    "                ('tfidf', TfidfTransformer()),\n",
    "                ('clf', LogisticRegression()),\n",
    "                ])\n",
    "model_log.fit(xtrain, ytrain)\n",
    "\n",
    "y_pred = model_log.predict(xtest)"
   ]
  },
  {
   "cell_type": "code",
   "execution_count": 30,
   "metadata": {},
   "outputs": [
    {
     "name": "stdout",
     "output_type": "stream",
     "text": [
      "                    precision    recall  f1-score   support\n",
      "\n",
      "          AskIndia       0.42      0.97      0.59        35\n",
      "  Business/Finance       0.00      0.00      0.00         6\n",
      "       CAA-NRC-NPR       0.00      0.00      0.00         2\n",
      "       Coronavirus       0.31      0.97      0.47        34\n",
      "              Food       0.00      0.00      0.00         6\n",
      "     Non-Political       0.00      0.00      0.00        31\n",
      "       Photography       0.00      0.00      0.00         4\n",
      "    Policy/Economy       0.00      0.00      0.00        11\n",
      "          Politics       0.00      0.00      0.00        34\n",
      "         Scheduled       1.00      0.70      0.82        10\n",
      "Science/Technology       0.00      0.00      0.00         5\n",
      "            Sports       0.00      0.00      0.00        15\n",
      "\n",
      "          accuracy                           0.38       193\n",
      "         macro avg       0.14      0.22      0.16       193\n",
      "      weighted avg       0.18      0.38      0.23       193\n",
      "\n",
      "0.38341968911917096\n"
     ]
    }
   ],
   "source": [
    "print(classification_report(ytest, y_pred))\n",
    "print(accuracy_score(ytest, y_pred))"
   ]
  },
  {
   "cell_type": "markdown",
   "metadata": {},
   "source": [
    "### 6. XGBoost Classifier"
   ]
  },
  {
   "cell_type": "code",
   "execution_count": 31,
   "metadata": {},
   "outputs": [],
   "source": [
    "model_xgb = Pipeline([('vect', CountVectorizer()),\n",
    "                ('tfidf', TfidfTransformer()),\n",
    "                ('clf', XGBClassifier()),\n",
    "                ])\n",
    "model_xgb.fit(xtrain, ytrain)\n",
    "\n",
    "y_pred = model_xgb.predict(xtest)"
   ]
  },
  {
   "cell_type": "code",
   "execution_count": 32,
   "metadata": {},
   "outputs": [
    {
     "name": "stdout",
     "output_type": "stream",
     "text": [
      "                    precision    recall  f1-score   support\n",
      "\n",
      "          AskIndia       0.54      0.77      0.64        35\n",
      "  Business/Finance       0.00      0.00      0.00         6\n",
      "       CAA-NRC-NPR       0.00      0.00      0.00         2\n",
      "       Coronavirus       0.32      1.00      0.48        34\n",
      "              Food       0.00      0.00      0.00         6\n",
      "     Non-Political       0.40      0.13      0.20        31\n",
      "       Photography       0.00      0.00      0.00         4\n",
      "    Policy/Economy       0.62      0.45      0.53        11\n",
      "          Politics       0.50      0.06      0.11        34\n",
      "         Scheduled       1.00      0.90      0.95        10\n",
      "Science/Technology       0.67      0.40      0.50         5\n",
      "            Sports       1.00      0.13      0.24        15\n",
      "\n",
      "          accuracy                           0.44       193\n",
      "         macro avg       0.42      0.32      0.30       193\n",
      "      weighted avg       0.49      0.44      0.36       193\n",
      "\n",
      "0.44041450777202074\n"
     ]
    }
   ],
   "source": [
    "print(classification_report(ytest, y_pred))\n",
    "print(accuracy_score(ytest, y_pred))"
   ]
  },
  {
   "cell_type": "markdown",
   "metadata": {},
   "source": [
    "### 7. Linear Support Vector Machine Classifier"
   ]
  },
  {
   "cell_type": "code",
   "execution_count": 33,
   "metadata": {},
   "outputs": [],
   "source": [
    "model_linearsvc = Pipeline([('vect', CountVectorizer()),\n",
    "                ('tfidf', TfidfTransformer()),\n",
    "                ('clf', LinearSVC()),\n",
    "                ])\n",
    "model_linearsvc.fit(xtrain, ytrain)\n",
    "\n",
    "y_pred = model_linearsvc.predict(xtest)"
   ]
  },
  {
   "cell_type": "code",
   "execution_count": 34,
   "metadata": {},
   "outputs": [
    {
     "name": "stdout",
     "output_type": "stream",
     "text": [
      "                    precision    recall  f1-score   support\n",
      "\n",
      "          AskIndia       0.57      0.89      0.70        35\n",
      "  Business/Finance       0.00      0.00      0.00         6\n",
      "       CAA-NRC-NPR       0.00      0.00      0.00         2\n",
      "       Coronavirus       0.32      1.00      0.48        34\n",
      "              Food       0.00      0.00      0.00         6\n",
      "     Non-Political       0.29      0.06      0.11        31\n",
      "       Photography       0.00      0.00      0.00         4\n",
      "    Policy/Economy       0.60      0.55      0.57        11\n",
      "          Politics       0.75      0.09      0.16        34\n",
      "         Scheduled       1.00      0.90      0.95        10\n",
      "Science/Technology       0.00      0.00      0.00         5\n",
      "            Sports       1.00      0.13      0.24        15\n",
      "\n",
      "          accuracy                           0.45       193\n",
      "         macro avg       0.38      0.30      0.27       193\n",
      "      weighted avg       0.50      0.45      0.36       193\n",
      "\n",
      "0.45077720207253885\n"
     ]
    }
   ],
   "source": [
    "print(classification_report(ytest, y_pred))\n",
    "print(accuracy_score(ytest, y_pred))"
   ]
  },
  {
   "cell_type": "markdown",
   "metadata": {},
   "source": [
    "# Taking TITLE + CONTENT + URL as Feature"
   ]
  },
  {
   "cell_type": "code",
   "execution_count": 35,
   "metadata": {},
   "outputs": [],
   "source": [
    "x = data[\"Title\"] + data[\"Content\"] + data[\"URL\"]\n",
    "y = data[\"Flair\"]\n",
    "\n",
    "xtrain, xtest, ytrain, ytest = train_test_split(x, y, test_size=0.2)"
   ]
  },
  {
   "cell_type": "markdown",
   "metadata": {},
   "source": [
    "### 1. Random Forest Classifier"
   ]
  },
  {
   "cell_type": "code",
   "execution_count": 36,
   "metadata": {},
   "outputs": [],
   "source": [
    "model_rforest = Pipeline([('vect', CountVectorizer()),\n",
    "                ('tfidf', TfidfTransformer()),\n",
    "                ('clf', RandomForestClassifier(n_estimators=300)),\n",
    "                ])\n",
    "model_rforest.fit(xtrain, ytrain)\n",
    "\n",
    "y_pred = model_rforest.predict(xtest)"
   ]
  },
  {
   "cell_type": "code",
   "execution_count": 37,
   "metadata": {},
   "outputs": [
    {
     "name": "stdout",
     "output_type": "stream",
     "text": [
      "                    precision    recall  f1-score   support\n",
      "\n",
      "          AskIndia       0.67      0.97      0.79        32\n",
      "  Business/Finance       0.00      0.00      0.00         1\n",
      "       CAA-NRC-NPR       0.00      0.00      0.00         2\n",
      "       Coronavirus       0.85      0.98      0.91        45\n",
      "              Food       0.00      0.00      0.00         3\n",
      "     Non-Political       0.89      0.82      0.85        39\n",
      "       Photography       0.67      0.33      0.44         6\n",
      "    Policy/Economy       1.00      0.88      0.93         8\n",
      "          Politics       0.79      0.74      0.77        31\n",
      "         Scheduled       1.00      0.89      0.94         9\n",
      "Science/Technology       1.00      0.33      0.50         3\n",
      "            Sports       0.91      0.71      0.80        14\n",
      "\n",
      "          accuracy                           0.82       193\n",
      "         macro avg       0.65      0.55      0.58       193\n",
      "      weighted avg       0.81      0.82      0.80       193\n",
      "\n",
      "0.8186528497409327\n"
     ]
    },
    {
     "name": "stderr",
     "output_type": "stream",
     "text": [
      "C:\\Users\\hp\\Anaconda3\\lib\\site-packages\\sklearn\\metrics\\classification.py:1437: UndefinedMetricWarning: Precision and F-score are ill-defined and being set to 0.0 in labels with no predicted samples.\n",
      "  'precision', 'predicted', average, warn_for)\n"
     ]
    }
   ],
   "source": [
    "print(classification_report(ytest, y_pred))\n",
    "print(accuracy_score(ytest, y_pred))"
   ]
  },
  {
   "cell_type": "markdown",
   "metadata": {},
   "source": [
    "### 2. Multinomial Naive Bayes Classifier"
   ]
  },
  {
   "cell_type": "code",
   "execution_count": 38,
   "metadata": {},
   "outputs": [],
   "source": [
    "model_nb = Pipeline([('vect', CountVectorizer()),\n",
    "                ('tfidf', TfidfTransformer()),\n",
    "                ('clf', MultinomialNB()),\n",
    "                ])\n",
    "model_nb.fit(xtrain, ytrain)\n",
    "\n",
    "y_pred = model_nb.predict(xtest)"
   ]
  },
  {
   "cell_type": "code",
   "execution_count": 39,
   "metadata": {},
   "outputs": [
    {
     "name": "stdout",
     "output_type": "stream",
     "text": [
      "                    precision    recall  f1-score   support\n",
      "\n",
      "          AskIndia       0.44      1.00      0.62        32\n",
      "  Business/Finance       0.00      0.00      0.00         1\n",
      "       CAA-NRC-NPR       0.00      0.00      0.00         2\n",
      "       Coronavirus       0.75      0.98      0.85        45\n",
      "              Food       0.00      0.00      0.00         3\n",
      "     Non-Political       0.68      0.54      0.60        39\n",
      "       Photography       0.00      0.00      0.00         6\n",
      "    Policy/Economy       0.00      0.00      0.00         8\n",
      "          Politics       0.88      0.68      0.76        31\n",
      "         Scheduled       1.00      0.78      0.88         9\n",
      "Science/Technology       0.00      0.00      0.00         3\n",
      "            Sports       0.00      0.00      0.00        14\n",
      "\n",
      "          accuracy                           0.65       193\n",
      "         macro avg       0.31      0.33      0.31       193\n",
      "      weighted avg       0.57      0.65      0.58       193\n",
      "\n",
      "0.6476683937823834\n"
     ]
    },
    {
     "name": "stderr",
     "output_type": "stream",
     "text": [
      "C:\\Users\\hp\\Anaconda3\\lib\\site-packages\\sklearn\\metrics\\classification.py:1437: UndefinedMetricWarning: Precision and F-score are ill-defined and being set to 0.0 in labels with no predicted samples.\n",
      "  'precision', 'predicted', average, warn_for)\n"
     ]
    }
   ],
   "source": [
    "print(classification_report(ytest, y_pred))\n",
    "print(accuracy_score(ytest, y_pred))"
   ]
  },
  {
   "cell_type": "markdown",
   "metadata": {},
   "source": [
    "### 3. Stochastic Gradient Descent Classifier"
   ]
  },
  {
   "cell_type": "code",
   "execution_count": 40,
   "metadata": {},
   "outputs": [],
   "source": [
    "model_sgd = Pipeline([('vect', CountVectorizer()),\n",
    "                ('tfidf', TfidfTransformer()),\n",
    "                ('clf', SGDClassifier()),\n",
    "                ])\n",
    "model_sgd.fit(xtrain, ytrain)\n",
    "\n",
    "y_pred = model_sgd.predict(xtest)"
   ]
  },
  {
   "cell_type": "code",
   "execution_count": 41,
   "metadata": {},
   "outputs": [
    {
     "name": "stdout",
     "output_type": "stream",
     "text": [
      "                    precision    recall  f1-score   support\n",
      "\n",
      "          AskIndia       0.81      0.91      0.85        32\n",
      "  Business/Finance       1.00      1.00      1.00         1\n",
      "       CAA-NRC-NPR       1.00      0.50      0.67         2\n",
      "       Coronavirus       0.96      1.00      0.98        45\n",
      "              Food       1.00      0.67      0.80         3\n",
      "     Non-Political       0.94      0.79      0.86        39\n",
      "       Photography       0.80      0.67      0.73         6\n",
      "    Policy/Economy       0.88      0.88      0.88         8\n",
      "          Politics       0.87      0.87      0.87        31\n",
      "         Scheduled       1.00      0.89      0.94         9\n",
      "Science/Technology       0.67      0.67      0.67         3\n",
      "            Sports       0.72      0.93      0.81        14\n",
      "\n",
      "          accuracy                           0.88       193\n",
      "         macro avg       0.89      0.81      0.84       193\n",
      "      weighted avg       0.89      0.88      0.88       193\n",
      "\n",
      "0.8808290155440415\n"
     ]
    }
   ],
   "source": [
    "print(classification_report(ytest, y_pred))\n",
    "print(accuracy_score(ytest, y_pred))"
   ]
  },
  {
   "cell_type": "markdown",
   "metadata": {},
   "source": [
    "### 4. Multi Layer Perceptron Classifier"
   ]
  },
  {
   "cell_type": "code",
   "execution_count": 42,
   "metadata": {},
   "outputs": [],
   "source": [
    "model_mlp = Pipeline([('vect', CountVectorizer()),\n",
    "                ('tfidf', TfidfTransformer()),\n",
    "                ('clf', MLPClassifier()),\n",
    "                ])\n",
    "model_mlp.fit(xtrain, ytrain)\n",
    "\n",
    "y_pred = model_mlp.predict(xtest)"
   ]
  },
  {
   "cell_type": "code",
   "execution_count": 43,
   "metadata": {},
   "outputs": [
    {
     "name": "stdout",
     "output_type": "stream",
     "text": [
      "                    precision    recall  f1-score   support\n",
      "\n",
      "          AskIndia       0.60      0.88      0.71        32\n",
      "  Business/Finance       1.00      1.00      1.00         1\n",
      "       CAA-NRC-NPR       0.00      0.00      0.00         2\n",
      "       Coronavirus       0.80      1.00      0.89        45\n",
      "              Food       0.00      0.00      0.00         3\n",
      "     Non-Political       0.73      0.62      0.67        39\n",
      "       Photography       1.00      0.33      0.50         6\n",
      "    Policy/Economy       1.00      0.75      0.86         8\n",
      "          Politics       0.82      0.74      0.78        31\n",
      "         Scheduled       1.00      0.89      0.94         9\n",
      "Science/Technology       0.50      0.33      0.40         3\n",
      "            Sports       1.00      0.71      0.83        14\n",
      "\n",
      "          accuracy                           0.77       193\n",
      "         macro avg       0.70      0.60      0.63       193\n",
      "      weighted avg       0.77      0.77      0.75       193\n",
      "\n",
      "0.7668393782383419\n"
     ]
    },
    {
     "name": "stderr",
     "output_type": "stream",
     "text": [
      "C:\\Users\\hp\\Anaconda3\\lib\\site-packages\\sklearn\\metrics\\classification.py:1437: UndefinedMetricWarning: Precision and F-score are ill-defined and being set to 0.0 in labels with no predicted samples.\n",
      "  'precision', 'predicted', average, warn_for)\n"
     ]
    }
   ],
   "source": [
    "print(classification_report(ytest, y_pred))\n",
    "print(accuracy_score(ytest, y_pred))"
   ]
  },
  {
   "cell_type": "markdown",
   "metadata": {},
   "source": [
    "### 5. Logistic Regression"
   ]
  },
  {
   "cell_type": "code",
   "execution_count": 44,
   "metadata": {},
   "outputs": [
    {
     "name": "stderr",
     "output_type": "stream",
     "text": [
      "C:\\Users\\hp\\Anaconda3\\lib\\site-packages\\sklearn\\linear_model\\logistic.py:432: FutureWarning: Default solver will be changed to 'lbfgs' in 0.22. Specify a solver to silence this warning.\n",
      "  FutureWarning)\n",
      "C:\\Users\\hp\\Anaconda3\\lib\\site-packages\\sklearn\\linear_model\\logistic.py:469: FutureWarning: Default multi_class will be changed to 'auto' in 0.22. Specify the multi_class option to silence this warning.\n",
      "  \"this warning.\", FutureWarning)\n"
     ]
    }
   ],
   "source": [
    "model_log = Pipeline([('vect', CountVectorizer()),\n",
    "                ('tfidf', TfidfTransformer()),\n",
    "                ('clf', LogisticRegression()),\n",
    "                ])\n",
    "model_log.fit(xtrain, ytrain)\n",
    "\n",
    "y_pred = model_log.predict(xtest)"
   ]
  },
  {
   "cell_type": "code",
   "execution_count": 45,
   "metadata": {},
   "outputs": [
    {
     "name": "stdout",
     "output_type": "stream",
     "text": [
      "                    precision    recall  f1-score   support\n",
      "\n",
      "          AskIndia       0.57      1.00      0.73        32\n",
      "  Business/Finance       0.00      0.00      0.00         1\n",
      "       CAA-NRC-NPR       0.00      0.00      0.00         2\n",
      "       Coronavirus       0.88      1.00      0.94        45\n",
      "              Food       0.00      0.00      0.00         3\n",
      "     Non-Political       0.76      0.64      0.69        39\n",
      "       Photography       0.50      0.17      0.25         6\n",
      "    Policy/Economy       1.00      0.38      0.55         8\n",
      "          Politics       0.83      0.81      0.82        31\n",
      "         Scheduled       1.00      0.78      0.88         9\n",
      "Science/Technology       1.00      0.33      0.50         3\n",
      "            Sports       1.00      0.71      0.83        14\n",
      "\n",
      "          accuracy                           0.77       193\n",
      "         macro avg       0.63      0.48      0.52       193\n",
      "      weighted avg       0.78      0.77      0.75       193\n",
      "\n",
      "0.772020725388601\n"
     ]
    }
   ],
   "source": [
    "print(classification_report(ytest, y_pred))\n",
    "print(accuracy_score(ytest, y_pred))"
   ]
  },
  {
   "cell_type": "markdown",
   "metadata": {},
   "source": [
    "### 6. XGBoost Classifier"
   ]
  },
  {
   "cell_type": "code",
   "execution_count": 46,
   "metadata": {},
   "outputs": [],
   "source": [
    "model_xgb = Pipeline([('vect', CountVectorizer()),\n",
    "                ('tfidf', TfidfTransformer()),\n",
    "                ('clf', XGBClassifier()),\n",
    "                ])\n",
    "model_xgb.fit(xtrain, ytrain)\n",
    "\n",
    "y_pred = model_xgb.predict(xtest)"
   ]
  },
  {
   "cell_type": "code",
   "execution_count": 47,
   "metadata": {},
   "outputs": [
    {
     "name": "stdout",
     "output_type": "stream",
     "text": [
      "                    precision    recall  f1-score   support\n",
      "\n",
      "          AskIndia       0.91      0.94      0.92        32\n",
      "  Business/Finance       0.00      0.00      0.00         1\n",
      "       CAA-NRC-NPR       0.00      0.00      0.00         2\n",
      "       Coronavirus       1.00      1.00      1.00        45\n",
      "              Food       0.67      0.67      0.67         3\n",
      "     Non-Political       0.94      0.87      0.91        39\n",
      "       Photography       0.83      0.83      0.83         6\n",
      "    Policy/Economy       0.83      0.62      0.71         8\n",
      "          Politics       0.73      0.87      0.79        31\n",
      "         Scheduled       1.00      0.89      0.94         9\n",
      "Science/Technology       0.50      0.67      0.57         3\n",
      "            Sports       0.93      0.93      0.93        14\n",
      "\n",
      "          accuracy                           0.89       193\n",
      "         macro avg       0.70      0.69      0.69       193\n",
      "      weighted avg       0.88      0.89      0.88       193\n",
      "\n",
      "0.8860103626943006\n"
     ]
    }
   ],
   "source": [
    "print(classification_report(ytest, y_pred))\n",
    "print(accuracy_score(ytest, y_pred))"
   ]
  },
  {
   "cell_type": "markdown",
   "metadata": {},
   "source": [
    "### 7. Linear Support Vector Machine Classifier"
   ]
  },
  {
   "cell_type": "code",
   "execution_count": 48,
   "metadata": {},
   "outputs": [],
   "source": [
    "model_linearsvc = Pipeline([('vect', CountVectorizer()),\n",
    "                ('tfidf', TfidfTransformer()),\n",
    "                ('clf', LinearSVC()),\n",
    "                ])\n",
    "model_linearsvc.fit(xtrain, ytrain)\n",
    "\n",
    "y_pred = model_linearsvc.predict(xtest)"
   ]
  },
  {
   "cell_type": "code",
   "execution_count": 49,
   "metadata": {},
   "outputs": [
    {
     "name": "stdout",
     "output_type": "stream",
     "text": [
      "                    precision    recall  f1-score   support\n",
      "\n",
      "          AskIndia       0.79      0.97      0.87        32\n",
      "  Business/Finance       1.00      1.00      1.00         1\n",
      "       CAA-NRC-NPR       0.00      0.00      0.00         2\n",
      "       Coronavirus       0.94      1.00      0.97        45\n",
      "              Food       1.00      0.67      0.80         3\n",
      "     Non-Political       0.94      0.79      0.86        39\n",
      "       Photography       0.62      0.83      0.71         6\n",
      "    Policy/Economy       1.00      0.88      0.93         8\n",
      "          Politics       0.87      0.87      0.87        31\n",
      "         Scheduled       1.00      0.89      0.94         9\n",
      "Science/Technology       0.67      0.67      0.67         3\n",
      "            Sports       0.92      0.86      0.89        14\n",
      "\n",
      "          accuracy                           0.89       193\n",
      "         macro avg       0.81      0.79      0.79       193\n",
      "      weighted avg       0.89      0.89      0.88       193\n",
      "\n",
      "0.8860103626943006\n"
     ]
    }
   ],
   "source": [
    "print(classification_report(ytest, y_pred))\n",
    "print(accuracy_score(ytest, y_pred))"
   ]
  },
  {
   "cell_type": "markdown",
   "metadata": {},
   "source": [
    "Looking at the Accuracy Score and Classification Report of all the Models Trained above including three different types of features which are TITLE, CONTENT and TITLE + CONTENT + URL I found out that the model which has performed best based on the criteria described above is the Linear Support Vector Machine with Using TITLE + CONTENT + URL as Feature. So I am dumping that model for deployment purpose."
   ]
  },
  {
   "cell_type": "markdown",
   "metadata": {},
   "source": [
    "# Dumping The Model"
   ]
  },
  {
   "cell_type": "code",
   "execution_count": 52,
   "metadata": {},
   "outputs": [],
   "source": [
    "x = data['Title'] + data['Content'] + data['URL']\n",
    "y = data['Flair']\n",
    "\n",
    "xtrain, xtest, ytrain, ytest = train_test_split(x, y, test_size=0.2)\n",
    "\n",
    "model_linearsvc = Pipeline([('vect', CountVectorizer()),\n",
    "                ('tfidf', TfidfTransformer()),\n",
    "                ('clf', LinearSVC()),\n",
    "                ])\n",
    "\n",
    "final_model = model_linearsvc.fit(xtrain, ytrain)"
   ]
  },
  {
   "cell_type": "code",
   "execution_count": 53,
   "metadata": {},
   "outputs": [],
   "source": [
    "joblib.dump(final_model, open('production_model.pkl', 'wb'))"
   ]
  },
  {
   "cell_type": "markdown",
   "metadata": {},
   "source": [
    "# Loading and Checking The Model Performance On Random Data"
   ]
  },
  {
   "cell_type": "code",
   "execution_count": 54,
   "metadata": {},
   "outputs": [],
   "source": [
    "model = joblib.load('production_model.pkl')"
   ]
  },
  {
   "cell_type": "code",
   "execution_count": 73,
   "metadata": {},
   "outputs": [],
   "source": [
    "import nltk\n",
    "import re\n",
    "import praw\n",
    "from nltk.corpus import stopwords\n",
    "from nltk.tokenize import word_tokenize\n",
    "stop_words = set(stopwords.words(\"english\"))\n",
    "\n",
    "client_id = \"zMvnVRM8MN_MRw\"\n",
    "client_secret = \"-JIqik-pmfgku1BVB_2gcoxnMwM\"\n",
    "user_agent = \"FlareReddit\"\n",
    "username = \"psatreddit\"\n",
    "password = \"pankaj123\"\n",
    "\n",
    "reddit = praw.Reddit(client_id = client_id, client_secret = client_secret, user_agent = user_agent, username = username, password = password)\n",
    "\n",
    "def clean_text(text):\n",
    "    text = re.sub('[/(){}\\[\\]#\\|@,\"\".?'':;*!$]', '', text)\n",
    "    text = re.sub('[^0-9A-Za-z #+_]', '', text)\n",
    "    text = str(\" \".join([w for w in word_tokenize(text) if w not in stop_words]))\n",
    "    return text\n",
    "\n",
    "def prediction(url):\n",
    "    submission = reddit.submission(url = url)\n",
    "    data['Title'] = str(submission.title)\n",
    "    data['Content'] = str(submission.selftext)\n",
    "    data['URL'] = str(submission.url)\n",
    "    \n",
    "    data['Title'] = clean_text(str(data['Title']))\n",
    "    data['Content'] = clean_text(str(data['Content']))\n",
    "    \n",
    "    combined = data['Title'] + data['Content'] + data['URL']\n",
    "    return model.predict(combined)[0]"
   ]
  },
  {
   "cell_type": "code",
   "execution_count": 74,
   "metadata": {},
   "outputs": [
    {
     "data": {
      "text/plain": [
       "'AskIndia'"
      ]
     },
     "execution_count": 74,
     "metadata": {},
     "output_type": "execute_result"
    }
   ],
   "source": [
    "prediction(\"https://www.reddit.com/r/india/comments/d1m9ld/iran_removes_antiindia_banners_from_pak_consulate/\")"
   ]
  },
  {
   "cell_type": "code",
   "execution_count": null,
   "metadata": {},
   "outputs": [],
   "source": []
  }
 ],
 "metadata": {
  "kernelspec": {
   "display_name": "Python 3",
   "language": "python",
   "name": "python3"
  },
  "language_info": {
   "codemirror_mode": {
    "name": "ipython",
    "version": 3
   },
   "file_extension": ".py",
   "mimetype": "text/x-python",
   "name": "python",
   "nbconvert_exporter": "python",
   "pygments_lexer": "ipython3",
   "version": "3.7.3"
  }
 },
 "nbformat": 4,
 "nbformat_minor": 2
}
